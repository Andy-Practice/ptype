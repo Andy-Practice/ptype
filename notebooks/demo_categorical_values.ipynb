{
 "cells": [
  {
   "cell_type": "markdown",
   "metadata": {},
   "source": [
    "In this notebook, we present various usecases for categorical values."
   ]
  },
  {
   "cell_type": "code",
   "execution_count": null,
   "metadata": {},
   "outputs": [],
   "source": [
    "# Preamble to run notebook in context of source package.\n",
    "# NBVAL_IGNORE_OUTPUT\n",
    "import sys\n",
    "sys.path.insert(0, '../')"
   ]
  },
  {
   "cell_type": "code",
   "execution_count": null,
   "metadata": {},
   "outputs": [],
   "source": [
    "from IPython.core.display import display, HTML\n",
    "from sklearn.linear_model import LogisticRegression\n",
    "from sklearn.tree import DecisionTreeClassifier\n",
    "from sklearn import metrics\n",
    "\n",
    "import matplotlib.pyplot as plt\n",
    "%matplotlib inline\n",
    "plt.rcdefaults()\n",
    "import numpy as np\n",
    "import pandas as pd\n",
    "# import pprint\n",
    "\n",
    "from ptype.Column import Column2ARFF\n",
    "from ptype.Ptype import Ptype\n",
    "from ptype.utils import evaluate_types\n",
    "from utils import *"
   ]
  },
  {
   "cell_type": "markdown",
   "metadata": {},
   "source": [
    "I plan to discuss two use-cases: \n",
    "- misclassifying categorical values as anomalies due to unsupported characters (Eucalyptus Soil Conservation Dataset),\n",
    "- merging categorical values when we have string variability issues (USP05 Dataset).\n"
   ]
  },
  {
   "cell_type": "markdown",
   "metadata": {},
   "source": [
    "### Eucalyptus Soil Conservation Dataset"
   ]
  },
  {
   "cell_type": "code",
   "execution_count": null,
   "metadata": {},
   "outputs": [],
   "source": [
    "df = pd.read_csv('../data/eucalyptus.csv')\n",
    "df.head()"
   ]
  },
  {
   "cell_type": "markdown",
   "metadata": {},
   "source": [
    "### The Analytical Task\n",
    "\n",
    "We use this dataset for an analytical task where we predict the \"Utility\" of given conditions.\n",
    "\n",
    "### A Solution using Standard Python Libraries\n",
    "Let's now develop a simple solution for this problem."
   ]
  },
  {
   "cell_type": "code",
   "execution_count": null,
   "metadata": {},
   "outputs": [],
   "source": [
    "features = ['Sp', 'Locality', 'Altitude', 'Rainfall', 'Ht', 'Surv', 'Vig']\n",
    "target = ['Utility']\n",
    "\n",
    "X = df[features]\n",
    "y = df[target]\n",
    "\n",
    "df = df[features+target]\n",
    "df.head()"
   ]
  },
  {
   "cell_type": "markdown",
   "metadata": {},
   "source": [
    "Both Sp and Locality are categorical columns. But Pandas cannot automatically label data columns with categorical types. Instead, they are classified as object."
   ]
  },
  {
   "cell_type": "code",
   "execution_count": null,
   "metadata": {},
   "outputs": [],
   "source": [
    "df.dtypes"
   ]
  },
  {
   "cell_type": "code",
   "execution_count": null,
   "metadata": {
    "scrolled": true
   },
   "outputs": [],
   "source": [
    "# to see the error message, uncomment the following\n",
    "\n",
    "# clf = DecisionTreeClassifier(min_samples_leaf=3, max_leaf_nodes=5, max_depth=4)\n",
    "                    \n",
    "clf = LogisticRegression(multi_class=\"multinomial\", max_iter=10000, penalty=\"l2\")\n",
    "\n",
    "# clf.fit(X, y)"
   ]
  },
  {
   "cell_type": "markdown",
   "metadata": {},
   "source": [
    "We notice that we need to encode the categorical variables using one-hot encoding."
   ]
  },
  {
   "cell_type": "code",
   "execution_count": null,
   "metadata": {},
   "outputs": [],
   "source": [
    "df = pd.get_dummies(df, columns=['Sp', 'Locality'])\n",
    "\n",
    "target = 'Utility'\n",
    "features = list(set(df.columns) - set([target]))\n",
    "\n",
    "X = df[features]\n",
    "y = df[target].values\n",
    "\n",
    "df = df[features+[target]]\n",
    "df.head()"
   ]
  },
  {
   "cell_type": "code",
   "execution_count": null,
   "metadata": {
    "scrolled": true
   },
   "outputs": [],
   "source": [
    "clf = LogisticRegression(multi_class=\"multinomial\", max_iter=10000, penalty=\"l2\")\n",
    "# clf = DecisionTreeClassifier(min_samples_leaf=3, max_leaf_nodes=40, max_depth=20)\n",
    "\n",
    "# clf.fit(X, y)"
   ]
  },
  {
   "cell_type": "code",
   "execution_count": null,
   "metadata": {
    "scrolled": true
   },
   "outputs": [],
   "source": [
    "df.isnull().sum()"
   ]
  },
  {
   "cell_type": "code",
   "execution_count": null,
   "metadata": {},
   "outputs": [],
   "source": [
    "n = df.shape[0]\n",
    "df.dropna(subset=[\"Ht\", \"Surv\", \"Vig\"], axis=0, inplace=True)\n",
    "print(\"# rows deleted = \" + str(n-df.shape[0]))\n",
    "\n",
    "# update the indices\n",
    "df.reset_index(drop=True, inplace=True)"
   ]
  },
  {
   "cell_type": "code",
   "execution_count": null,
   "metadata": {},
   "outputs": [],
   "source": [
    "target = 'Utility'\n",
    "features = list(set(df.columns) - set([target]))\n",
    "\n",
    "X = df[features]\n",
    "y = df[target].values\n",
    "\n",
    "clf = LogisticRegression(multi_class=\"multinomial\", max_iter=20000, penalty=\"l2\")\n",
    "clf.fit(X, y)\n",
    "y_hat = clf.predict(X)\n",
    "\n",
    "print('Overall Accuracy:', round(metrics.accuracy_score(y, y_hat), 2))"
   ]
  },
  {
   "cell_type": "code",
   "execution_count": null,
   "metadata": {},
   "outputs": [],
   "source": [
    "labels = ['none', 'low', 'average', 'good', 'best']\n",
    "cm = confusion_matrix(y, y_hat, labels)\n",
    "\n",
    "plot_confusion_matrix(cm, labels)\n",
    "# note that none is not missing data (none<0.1, low<1.48, average<2.65, good<3.83, best<5.00)\n",
    "# (see https://www.cs.waikato.ac.nz/ml/publications/1996/Thomson-McQueen-96.pdf)"
   ]
  },
  {
   "cell_type": "markdown",
   "metadata": {},
   "source": [
    "Let's now reproduce the error and see how we can use ptype to resolve the issue."
   ]
  },
  {
   "cell_type": "code",
   "execution_count": null,
   "metadata": {},
   "outputs": [],
   "source": [
    "df = pd.read_csv('../data/eucalyptus.csv', dtype='str', keep_default_na=False)\n",
    "\n",
    "features = ['Sp', 'Locality', 'Altitude', 'Rainfall', 'Ht', 'Surv', 'Vig']\n",
    "target = ['Utility']\n",
    "\n",
    "X = df[features]\n",
    "y = df[target]\n",
    "\n",
    "df = df[features+target]\n",
    "df.head()"
   ]
  },
  {
   "cell_type": "code",
   "execution_count": null,
   "metadata": {},
   "outputs": [],
   "source": [
    "ptype = Ptype()\n",
    "\n",
    "schema = ptype.fit_schema(df)\n",
    "schema\n",
    "# pprint.pprint(schema)"
   ]
  },
  {
   "cell_type": "code",
   "execution_count": null,
   "metadata": {},
   "outputs": [],
   "source": [
    "schema['Locality'].categorical_values"
   ]
  },
  {
   "cell_type": "code",
   "execution_count": null,
   "metadata": {},
   "outputs": [],
   "source": [
    "print(schema['Locality'].get_missing_values())\n",
    "\n",
    "print(schema['Locality'].get_anomalous_values())"
   ]
  },
  {
   "cell_type": "code",
   "execution_count": null,
   "metadata": {},
   "outputs": [],
   "source": [
    "ptype.show_schema()"
   ]
  },
  {
   "cell_type": "code",
   "execution_count": null,
   "metadata": {},
   "outputs": [],
   "source": [
    "df = ptype.transform_schema(df, schema)"
   ]
  },
  {
   "cell_type": "code",
   "execution_count": null,
   "metadata": {},
   "outputs": [],
   "source": [
    "df.head()"
   ]
  },
  {
   "cell_type": "code",
   "execution_count": null,
   "metadata": {},
   "outputs": [],
   "source": [
    "df.dtypes"
   ]
  },
  {
   "cell_type": "code",
   "execution_count": null,
   "metadata": {},
   "outputs": [],
   "source": [
    "cat_columns = [column for column in schema if column != 'Utility' and schema[column].arff_type == 'nominal' ]\n",
    "df = pd.get_dummies(df, columns=cat_columns)\n",
    "\n",
    "target = 'Utility'\n",
    "features = list(set(df.columns) - set([target]))\n",
    "\n",
    "X = df[features]\n",
    "y = df[target].values\n",
    "\n",
    "df = df[features+[target]]\n",
    "df.head()"
   ]
  },
  {
   "cell_type": "code",
   "execution_count": null,
   "metadata": {},
   "outputs": [],
   "source": [
    "clf = LogisticRegression(multi_class=\"multinomial\", max_iter=10000, penalty=\"l2\")\n",
    "# clf.fit(X, y)"
   ]
  },
  {
   "cell_type": "code",
   "execution_count": null,
   "metadata": {
    "scrolled": true
   },
   "outputs": [],
   "source": [
    "df.isnull().sum()"
   ]
  },
  {
   "cell_type": "code",
   "execution_count": null,
   "metadata": {},
   "outputs": [],
   "source": [
    "n = df.shape[0]\n",
    "df.dropna(subset=[\"Ht\", \"Surv\", \"Vig\"], axis=0, inplace=True)\n",
    "print(\"# rows deleted = \" + str(n-df.shape[0]))\n",
    "\n",
    "# update the indices\n",
    "df.reset_index(drop=True, inplace=True)"
   ]
  },
  {
   "cell_type": "code",
   "execution_count": null,
   "metadata": {},
   "outputs": [],
   "source": [
    "target = 'Utility'\n",
    "features = list(set(df.columns) - set([target]))\n",
    "\n",
    "X = df[features]\n",
    "y = df[target].values\n",
    "\n",
    "clf = LogisticRegression(multi_class=\"multinomial\", max_iter=20000, penalty=\"l2\")\n",
    "clf.fit(X, y)\n",
    "y_hat = clf.predict(X)\n",
    "\n",
    "print('Overall Accuracy:', round(metrics.accuracy_score(y, y_hat), 2))"
   ]
  },
  {
   "cell_type": "code",
   "execution_count": null,
   "metadata": {
    "scrolled": true
   },
   "outputs": [],
   "source": [
    "labels = ['none', 'low', 'average', 'good', 'best']\n",
    "cm = confusion_matrix(y, y_hat, labels)\n",
    "\n",
    "plot_confusion_matrix(cm, labels)\n",
    "# note that none is not missing data (none<0.1, low<1.48, average<2.65, good<3.83, best<5.00)\n",
    "# (see https://www.cs.waikato.ac.nz/ml/publications/1996/Thomson-McQueen-96.pdf)"
   ]
  },
  {
   "cell_type": "markdown",
   "metadata": {},
   "source": [
    "### USP05 Dataset"
   ]
  },
  {
   "cell_type": "code",
   "execution_count": null,
   "metadata": {},
   "outputs": [],
   "source": [
    "df = pd.read_csv('../data/usp05.csv')\n",
    "df.head()"
   ]
  },
  {
   "cell_type": "code",
   "execution_count": null,
   "metadata": {},
   "outputs": [],
   "source": []
  }
 ],
 "metadata": {
  "kernelspec": {
   "display_name": "Python 3",
   "language": "python",
   "name": "python3"
  },
  "language_info": {
   "codemirror_mode": {
    "name": "ipython",
    "version": 3
   },
   "file_extension": ".py",
   "mimetype": "text/x-python",
   "name": "python",
   "nbconvert_exporter": "python",
   "pygments_lexer": "ipython3",
   "version": "3.7.3"
  }
 },
 "nbformat": 4,
 "nbformat_minor": 2
}
