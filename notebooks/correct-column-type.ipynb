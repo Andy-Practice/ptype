{
 "cells": [
  {
   "cell_type": "markdown",
   "metadata": {},
   "source": [
    "In this notebook, we present various usecases to demonstrate the benefit of using ptype for column type inference. The organization of the notebook is as follows:\n",
    "\n",
    "- Part 1 (solve data cleaning problem without Ptype):\n",
    "    - import dataset using Pandas read_csv\n",
    "    - run linear regression on data\n",
    "    - error occurs because of missing data: could not convert string to float: ‘?’\n",
    "    - inspect dtypes property of dataframe to see the problem\n",
    "    - use Pandas to change encoding of missing data, remove relevant rows\n",
    "    - run linear regression again (no errors), plot results\n",
    "    - use dtypes to verify that we now have appropriate column types\n",
    "\n",
    "- Part 2 (how Ptype makes this problem easier):\n",
    "    - import dataset using Pandas read_csv, but this time with dtype=’str’\n",
    "    - instantiate Ptype\n",
    "    - ask Ptype to infer schema; show inferred types\n",
    "    - ask Ptype to adjust type of dataframe to match schema\n",
    "    - inspect transformed dataframe to verify types as expected\n",
    "    - then as per Part 1 to remove missing data and continue\n"
   ]
  },
  {
   "cell_type": "code",
   "execution_count": null,
   "metadata": {},
   "outputs": [],
   "source": [
    "# Preamble to run notebook in context of source package.\n",
    "# NBVAL_IGNORE_OUTPUT\n",
    "import sys\n",
    "sys.path.insert(0, '../')"
   ]
  },
  {
   "cell_type": "code",
   "execution_count": null,
   "metadata": {},
   "outputs": [],
   "source": [
    "from IPython.core.display import display\n",
    "from sklearn.linear_model import LinearRegression\n",
    "\n",
    "import matplotlib.pyplot as plt\n",
    "%matplotlib inline\n",
    "plt.rcdefaults()\n",
    "import numpy as np\n",
    "import pandas as pd\n",
    "\n",
    "from utils import scatter_plot"
   ]
  },
  {
   "cell_type": "markdown",
   "metadata": {},
   "source": [
    "### UCI Automobile Dataset"
   ]
  },
  {
   "cell_type": "code",
   "execution_count": null,
   "metadata": {},
   "outputs": [],
   "source": [
    "headers = [\"symboling\",\"normalized-losses\",\"make\",\"fuel-type\",\"aspiration\", \"num-of-doors\",\"body-style\",\n",
    "         \"drive-wheels\",\"engine-location\",\"wheel-base\", \"length\",\"width\",\"height\",\"curb-weight\",\"engine-type\",\n",
    "         \"num-of-cylinders\", \"engine-size\",\"fuel-system\",\"bore\",\"stroke\",\"compression-ratio\",\"horsepower\",\n",
    "         \"peak-rpm\",\"city-mpg\",\"highway-mpg\",\"price\"]\n",
    "\n",
    "df = pd.read_csv('../data/auto.csv', names = headers)\n",
    "df.head()"
   ]
  },
  {
   "cell_type": "markdown",
   "metadata": {},
   "source": [
    "### The Analytical Task\n",
    "\n",
    "This dataset is commonly used for a regression task, where the goal is to predict the price of an automobile given its attributes.\n",
    "\n",
    "### A Solution using Standard Python Libraries\n",
    "Let's now develop a simple solution for this problem. The solution is inspired from Kaggle (see https://www.kaggle.com/fazilbtopal/data-wrangling and https://www.kaggle.com/fazilbtopal/model-development-and-evaluation-with-python)."
   ]
  },
  {
   "cell_type": "code",
   "execution_count": null,
   "metadata": {},
   "outputs": [],
   "source": [
    "features = ['horsepower', 'curb-weight', 'engine-size', 'highway-mpg']\n",
    "target = ['price']\n",
    "\n",
    "X = df[features]\n",
    "y = df[target]\n",
    "\n",
    "df = df[features+target]\n",
    "df.head()"
   ]
  },
  {
   "cell_type": "code",
   "execution_count": null,
   "metadata": {},
   "outputs": [],
   "source": [
    "# to see the error message, uncomment the following\n",
    "\n",
    "lm = LinearRegression()\n",
    "# lm.fit(X, y)\n",
    "# y_hat = lm.predict(X)"
   ]
  },
  {
   "cell_type": "markdown",
   "metadata": {},
   "source": [
    "We notice that some data entries are valued ? and that they cannot be processed with the fit function. \n",
    "\n",
    "Although it is not directly obvious which data entries are valued ?, we can query the dataframe to determine the occurences of ?."
   ]
  },
  {
   "cell_type": "code",
   "execution_count": null,
   "metadata": {},
   "outputs": [],
   "source": [
    "df[(df['horsepower']=='?') | (df['price']=='?')]"
   ]
  },
  {
   "cell_type": "markdown",
   "metadata": {},
   "source": [
    "Note that this also leads Pandas to misclassify two data columns as object rather than int64."
   ]
  },
  {
   "cell_type": "code",
   "execution_count": null,
   "metadata": {},
   "outputs": [],
   "source": [
    "df.dtypes"
   ]
  },
  {
   "cell_type": "markdown",
   "metadata": {},
   "source": [
    "We need to \"clean\" the horsepower and price columns in terms of missing values. Let's first have a look at what we can do without ptype:"
   ]
  },
  {
   "cell_type": "code",
   "execution_count": null,
   "metadata": {},
   "outputs": [],
   "source": [
    "# replace missing data encoding\n",
    "df['horsepower'].replace(\"?\", np.nan, inplace = True)\n",
    "df['price'].replace(\"?\", np.nan, inplace = True)\n",
    "\n",
    "# drop rows\n",
    "n = df.shape[0]\n",
    "df.dropna(subset=[\"horsepower\", \"price\"], axis=0, inplace=True)\n",
    "print(\"# rows deleted = \" + str(n-df.shape[0]))\n",
    "\n",
    "# update the indices\n",
    "df.reset_index(drop=True, inplace=True)"
   ]
  },
  {
   "cell_type": "code",
   "execution_count": null,
   "metadata": {},
   "outputs": [],
   "source": [
    "df.dtypes"
   ]
  },
  {
   "cell_type": "markdown",
   "metadata": {},
   "source": [
    "Although, this does not cause any errors, we may want to update data types."
   ]
  },
  {
   "cell_type": "code",
   "execution_count": null,
   "metadata": {},
   "outputs": [],
   "source": [
    "df = df.astype(int)\n",
    "df.dtypes"
   ]
  },
  {
   "cell_type": "code",
   "execution_count": null,
   "metadata": {},
   "outputs": [],
   "source": [
    "X = df[features].values\n",
    "y = df[target].values\n",
    "\n",
    "lm.fit(X, y)\n",
    "y_hat = lm.predict(X)\n",
    "\n",
    "scatter_plot(y, y_hat)"
   ]
  },
  {
   "cell_type": "code",
   "execution_count": null,
   "metadata": {},
   "outputs": [],
   "source": [
    "df.dtypes"
   ]
  },
  {
   "cell_type": "markdown",
   "metadata": {},
   "source": [
    "Let's now revisit the problem and see how we can use ptype to resolve it. Note that we now use an additional parameter of the read_csv function. We set 'dtype' to 'str' so that all data entries are parsed as strings. This is needed as ptype processes each data value as a string.\n"
   ]
  },
  {
   "cell_type": "code",
   "execution_count": null,
   "metadata": {},
   "outputs": [],
   "source": [
    "headers = [\"symboling\",\"normalized-losses\",\"make\",\"fuel-type\",\"aspiration\", \"num-of-doors\",\"body-style\",\n",
    "         \"drive-wheels\",\"engine-location\",\"wheel-base\", \"length\",\"width\",\"height\",\"curb-weight\",\"engine-type\",\n",
    "         \"num-of-cylinders\", \"engine-size\",\"fuel-system\",\"bore\",\"stroke\",\"compression-ratio\",\"horsepower\",\n",
    "         \"peak-rpm\",\"city-mpg\",\"highway-mpg\",\"price\"]\n",
    "\n",
    "df = pd.read_csv('../data/auto.csv', names = headers, dtype='str')\n",
    "df = df[features+target]\n",
    "df.head()"
   ]
  },
  {
   "cell_type": "code",
   "execution_count": null,
   "metadata": {},
   "outputs": [],
   "source": [
    "from ptype.Ptype import Ptype\n",
    "\n",
    "ptype = Ptype()"
   ]
  },
  {
   "cell_type": "code",
   "execution_count": null,
   "metadata": {},
   "outputs": [],
   "source": [
    "schema = ptype.fit_schema(df)\n",
    "ptype.show_schema()"
   ]
  },
  {
   "cell_type": "code",
   "execution_count": null,
   "metadata": {},
   "outputs": [],
   "source": [
    "df = ptype.transform_schema(df, schema)"
   ]
  },
  {
   "cell_type": "code",
   "execution_count": null,
   "metadata": {},
   "outputs": [],
   "source": [
    "df[(df['horsepower'].isna()) | (df['price'].isna())]"
   ]
  },
  {
   "cell_type": "code",
   "execution_count": null,
   "metadata": {},
   "outputs": [],
   "source": [
    "df.dtypes"
   ]
  },
  {
   "cell_type": "code",
   "execution_count": null,
   "metadata": {},
   "outputs": [],
   "source": [
    "# drop rows\n",
    "n = df.shape[0]\n",
    "df.dropna(subset=[\"horsepower\", \"price\"], axis=0, inplace=True)\n",
    "print(\"# rows deleted = \" + str(n-df.shape[0]))\n",
    "\n",
    "# update the indices\n",
    "df.reset_index(drop=True, inplace=True)"
   ]
  },
  {
   "cell_type": "code",
   "execution_count": null,
   "metadata": {},
   "outputs": [],
   "source": [
    "X = df[features].values\n",
    "y = df[target].values\n",
    "\n",
    "lm = LinearRegression()\n",
    "lm.fit(X, y)\n",
    "y_hat = lm.predict(X)\n",
    "\n",
    "scatter_plot(y, y_hat)"
   ]
  },
  {
   "cell_type": "code",
   "execution_count": null,
   "metadata": {},
   "outputs": [],
   "source": []
  }
 ],
 "metadata": {
  "kernelspec": {
   "display_name": "Python 3",
   "language": "python",
   "name": "python3"
  },
  "language_info": {
   "codemirror_mode": {
    "name": "ipython",
    "version": 3
   },
   "file_extension": ".py",
   "mimetype": "text/x-python",
   "name": "python",
   "nbconvert_exporter": "python",
   "pygments_lexer": "ipython3",
   "version": "3.7.3"
  }
 },
 "nbformat": 4,
 "nbformat_minor": 2
}
