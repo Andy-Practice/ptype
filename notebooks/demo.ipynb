{
 "cells": [
  {
   "cell_type": "markdown",
   "metadata": {},
   "source": [
    "In this notebook, we present various usecases to interact with ptype to handle:\n",
    "\n",
    "- incorrect column type predictions,\n",
    "- incorrect missing type predictions.\n",
    "- incorrect anomaly type predictions."
   ]
  },
  {
   "cell_type": "code",
   "execution_count": null,
   "metadata": {},
   "outputs": [],
   "source": [
    "# Preamble to run notebook in context of source package.\n",
    "# NBVAL_IGNORE_OUTPUT\n",
    "import sys\n",
    "sys.path.insert(0, '../')\n",
    "!{sys.executable} -m pip install -r ../requirements.txt\n"
   ]
  },
  {
   "cell_type": "code",
   "execution_count": null,
   "metadata": {},
   "outputs": [],
   "source": [
    "from IPython.core.display import display, HTML\n",
    "\n",
    "import matplotlib.pyplot as plt\n",
    "%matplotlib inline\n",
    "plt.rcdefaults()\n",
    "\n",
    "from ptype.Ptype import Ptype\n",
    "from ptype.utils import evaluate_types\n",
    "import pandas as pd\n",
    "import numpy as np\n",
    "from utils import *"
   ]
  },
  {
   "cell_type": "code",
   "execution_count": null,
   "metadata": {},
   "outputs": [],
   "source": [
    "ptype = Ptype()"
   ]
  },
  {
   "cell_type": "markdown",
   "metadata": {},
   "source": [
    "# 1. Incorrect Column Type Prediction\n",
    "\n",
    "## 1.a Incorrect Type Prediction"
   ]
  },
  {
   "cell_type": "code",
   "execution_count": null,
   "metadata": {},
   "outputs": [],
   "source": [
    "df = read_data(dataset_name=\"accident2016\", header=0)\n",
    "\n",
    "column = \"Time (24hr)\"\n",
    "df_subsample = subsample_df(df, column_to_sample_from=column, sample_num=10)\n",
    "df_subsample"
   ]
  },
  {
   "cell_type": "code",
   "execution_count": null,
   "metadata": {},
   "outputs": [],
   "source": [
    "ptype.run_inference(_data_frame=df_subsample)\n",
    "\n",
    "plot_column_type_posterior(ptype, column=column)"
   ]
  },
  {
   "cell_type": "code",
   "execution_count": null,
   "metadata": {},
   "outputs": [],
   "source": [
    "ptype.cols[column].predicted_type = 'date'\n"   ]
  },
  {
   "cell_type": "markdown",
   "metadata": {},
   "source": [
    "## 1.b Uniform posterior distribution"
   ]
  },
  {
   "cell_type": "code",
   "execution_count": null,
   "metadata": {},
   "outputs": [],
   "source": [
    "df = read_data(dataset_name='inspection_outcomes', header=0)\n",
    "\n",
    "column = 'Provision type'\n",
    "df_subsample = subsample_df(df, column_to_sample_from = column, sample_num = 10)\n",
    "df_subsample"
   ]
  },
  {
   "cell_type": "code",
   "execution_count": null,
   "metadata": {},
   "outputs": [],
   "source": [
    "ptype.run_inference(_data_frame=df_subsample)\n",
    "\n",
    "plot_column_type_posterior(ptype, column=column)"
   ]
  },
  {
   "cell_type": "code",
   "execution_count": null,
   "metadata": {},
   "outputs": [],
   "source": [
    "ptype.cols[column].predicted_type = 'string'\n",
    "# add the character to the alphabet?\n"
   ]
  },
  {
   "cell_type": "markdown",
   "metadata": {},
   "source": [
    "# 2. Incorrect Missing Data Prediction"
   ]
  },
  {
   "cell_type": "code",
   "execution_count": null,
   "metadata": {},
   "outputs": [],
   "source": [
    "df = read_data(dataset_name='auto')\n",
    "column = 0\n",
    "df_subsample = subsample_df(df, column_to_sample_from = column, sample_num = 10)\n",
    "df_subsample"
   ]
  },
  {
   "cell_type": "code",
   "execution_count": null,
   "metadata": {},
   "outputs": [],
   "source": [
    "ptype.run_inference(_data_frame=df_subsample)\n",
    "\n",
    "plot_column_type_posterior(ptype, column=column)\n",
    "\n",
    "plot_row_type_posterior(ptype, column=column, t='missing')"
   ]
  },
  {
   "cell_type": "code",
   "execution_count": null,
   "metadata": {},
   "outputs": [],
   "source": [
    "ptype.cols[column].change_missing_data_annotations(['-1'])\n",
    "\n",
    "\n",
    "# update the column type posterior?\n",
    "# plot_column_type_posterior(ptype, column=column)\n",
    "\n",
    "plot_row_type_posterior(ptype, column=column, t='missing')"
   ]
  },
  {
   "cell_type": "code",
   "execution_count": null,
   "metadata": {},
   "outputs": [],
   "source": [
    "ptype.show_results([column,])"
   ]
  },
  {
   "cell_type": "markdown",
   "metadata": {},
   "source": [
    "# 3. a Incorrect Anomaly Prediction"
   ]
  },
  {
   "cell_type": "code",
   "execution_count": null,
   "metadata": {
    "scrolled": false
   },
   "outputs": [],
   "source": [
    "column = 'Status'\n",
    "df = read_data(dataset_name='data_gov_10151_1', header=0)\n",
    "df_subsample = subsample_df(df, column_to_sample_from = column, sample_num = 20)\n",
    "df_subsample"
   ]
  },
  {
   "cell_type": "code",
   "execution_count": null,
   "metadata": {},
   "outputs": [],
   "source": [
    "unique_values, counts = np.unique(\n",
    "    [str(int_element) for int_element in df_subsample[column].tolist()],\n",
    "    return_counts=True,\n",
    ")\n",
    "plot_bar(\n",
    "    unique_values,\n",
    "    counts,\n",
    "    title=\"counts of the unique data values\",\n",
    "    y_lim_max=None,\n",
    "    xlabel=\"Unique Value\",\n",
    "    ylabel=\"Counts\",\n",
    ")"
   ]
  },
  {
   "cell_type": "code",
   "execution_count": null,
   "metadata": {},
   "outputs": [],
   "source": [
    "ptype.run_inference(_data_frame=df_subsample)\n",
    "\n",
    "plot_column_type_posterior(ptype, column=column)\n",
    "\n",
    "print('Normal Values', unique_values[ptype.normal_types[column]])\n",
    "print('Anomalous Values', unique_values[ptype.anomaly_types[column]])\n",
    "plot_row_type_posterior(ptype, column=column, t='anomaly')"
   ]
  },
  {
   "cell_type": "code",
   "execution_count": null,
   "metadata": {},
   "outputs": [],
   "source": [
    "ptype.cols[column].change_anomaly_annotations(['T', 'U'])\n",
    "\n",
    "print('Normal Values', unique_values[ptype.normal_types[column]])\n",
    "print('Anomalous Values', unique_values[ptype.anomaly_types[column]])\n",
    "plot_row_type_posterior(ptype, column=column, t='anomaly')"
   ]
  },
  {
   "cell_type": "markdown",
   "metadata": {},
   "source": [
    "# 3.b Incorrect Anomaly Prediction"
   ]
  },
  {
   "cell_type": "code",
   "execution_count": null,
   "metadata": {},
   "outputs": [],
   "source": [
    "df = read_data(dataset_name=\"survey\", header=0)\n",
    "\n",
    "column = \"Gender\"\n",
    "df_subsample = subsample_df(df, column_to_sample_from=column, sample_num=10)\n",
    "display(df_subsample)\n",
    "\n",
    "unique_values, counts = np.unique(\n",
    "    [str(int_element) for int_element in df_subsample[column].tolist()],\n",
    "    return_counts=True,\n",
    ")\n",
    "plot_bar(\n",
    "    unique_values,\n",
    "    counts,\n",
    "    title=\"counts of the unique data values\",\n",
    "    y_lim_max=None,\n",
    "    xlabel=\"Unique Value\",\n",
    "    ylabel=\"Counts\",\n",
    ")"
   ]
  },
  {
   "cell_type": "code",
   "execution_count": null,
   "metadata": {},
   "outputs": [],
   "source": [
    "ptype.run_inference(_data_frame=df_subsample)\n",
    "\n",
    "plot_column_type_posterior(ptype, column=column)\n",
    "\n",
    "print(\"Normal Values\", unique_values[ptype.normal_types[column]])\n",
    "print(\"Anomalous Values\", unique_values[ptype.anomaly_types[column]])\n",
    "\n",
    "plot_row_type_posterior(ptype, column, t='anomaly')"
   ]
  },
  {
   "cell_type": "markdown",
   "metadata": {},
   "source": [
    "# 4. Multiple Missing Data Encodings"
   ]
  },
  {
   "cell_type": "code",
   "execution_count": null,
   "metadata": {
    "scrolled": false
   },
   "outputs": [],
   "source": [
    "df = read_data(\"mass_6\", header=0)\n",
    "\n",
    "column = \"LRE Ages 3-5 - Full Incl #\"\n",
    "df_subsample = subsample_df(df, column_to_sample_from=column, sample_num=20)\n",
    "display(df_subsample)\n",
    "\n",
    "unique_values, counts = np.unique(\n",
    "    [str(int_element) for int_element in df_subsample[column].tolist()],\n",
    "    return_counts=True,\n",
    ")\n",
    "plot_bar(\n",
    "    unique_values,\n",
    "    counts,\n",
    "    title=\"counts of the unique data values\",\n",
    "    y_lim_max=None,\n",
    "    xlabel=\"Unique Value\",\n",
    "    ylabel=\"Counts\",\n",
    ")"
   ]
  },
  {
   "cell_type": "code",
   "execution_count": null,
   "metadata": {},
   "outputs": [],
   "source": [
    "ptype.run_inference(_data_frame=df_subsample)\n",
    "\n",
    "plot_column_type_posterior(ptype, column=column)\n",
    "\n",
    "print('Normal Values', unique_values[ptype.normal_types[column]])\n",
    "print('Missing Values', unique_values[ptype.missing_types[column]])\n",
    "\n",
    "plot_row_type_posterior(ptype, column=column, t='missing')"
   ]
  },
  {
   "cell_type": "code",
   "execution_count": null,
   "metadata": {},
   "outputs": [],
   "source": [
    "new_encoding = 'NA'\n",
    "ptype.replace_missing(column, new_encoding)\n",
    "\n",
    "unique_values, counts = np.unique(\n",
    "    [str(int_element) for int_element in ptype.model.data[column].tolist()],\n",
    "    return_counts=True,\n",
    ")\n",
    "print('Normal Values', unique_values[ptype.normal_types[column]])\n",
    "print('Missing Values', unique_values[ptype.missing_types[column]])\n",
    "\n",
    "plot_row_type_posterior(ptype, column=column, t='missing')"
   ]
  },
  {
   "cell_type": "code",
   "execution_count": null,
   "metadata": {},
   "outputs": [],
   "source": []
  }
 ],
 "metadata": {
  "kernelspec": {
   "display_name": "Python 3",
   "language": "python",
   "name": "python3"
  },
  "language_info": {
   "codemirror_mode": {
    "name": "ipython",
    "version": 3
   },
   "file_extension": ".py",
   "mimetype": "text/x-python",
   "name": "python",
   "nbconvert_exporter": "python",
   "pygments_lexer": "ipython3",
   "version": "3.7.3"
  }
 },
 "nbformat": 4,
 "nbformat_minor": 2
}
