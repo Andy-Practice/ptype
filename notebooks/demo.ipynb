{
 "cells": [
  {
   "cell_type": "markdown",
   "metadata": {},
   "source": [
    "In this notebook, we present various usecases to interact with ptype to handle:\n",
    "\n",
    "- incorrect column type predictions,\n",
    "- incorrect missing type predictions.\n",
    "- incorrect anomaly type predictions."
   ]
  },
  {
   "cell_type": "code",
   "execution_count": 1,
   "metadata": {},
   "outputs": [
    {
     "name": "stdout",
     "output_type": "stream",
     "text": [
      "Requirement already satisfied: clevercsv in /Users/tceritli/anaconda3/lib/python3.7/site-packages (from -r ../requirements.txt (line 2)) (0.3.6)\n",
      "Requirement already satisfied: greenery in /Users/tceritli/anaconda3/lib/python3.7/site-packages (from -r ../requirements.txt (line 3)) (3.1)\n",
      "Requirement already satisfied: matplotlib in /Users/tceritli/anaconda3/lib/python3.7/site-packages (from -r ../requirements.txt (line 4)) (3.2.1)\n",
      "Requirement already satisfied: nbval in /Users/tceritli/anaconda3/lib/python3.7/site-packages (from -r ../requirements.txt (line 5)) (0.9.6)\n",
      "Requirement already satisfied: numpy in /Users/tceritli/anaconda3/lib/python3.7/site-packages (from -r ../requirements.txt (line 6)) (1.16.4)\n",
      "Requirement already satisfied: pandas in /Users/tceritli/anaconda3/lib/python3.7/site-packages (from -r ../requirements.txt (line 7)) (0.24.2)\n",
      "Requirement already satisfied: scipy in /Users/tceritli/anaconda3/lib/python3.7/site-packages (from -r ../requirements.txt (line 8)) (1.1.0)\n",
      "Requirement already satisfied: scikit-learn in /Users/tceritli/anaconda3/lib/python3.7/site-packages (from -r ../requirements.txt (line 9)) (0.23.0)\n",
      "Requirement already satisfied: wheel in /Users/tceritli/anaconda3/lib/python3.7/site-packages (from -r ../requirements.txt (line 10)) (0.33.1)\n",
      "Requirement already satisfied: green==2.16.1 in /Users/tceritli/anaconda3/lib/python3.7/site-packages (from clevercsv->-r ../requirements.txt (line 2)) (2.16.1)\n",
      "Requirement already satisfied: Unidecode==1.1.1 in /Users/tceritli/anaconda3/lib/python3.7/site-packages (from clevercsv->-r ../requirements.txt (line 2)) (1.1.1)\n",
      "Requirement already satisfied: chardet==3.0.4 in /Users/tceritli/anaconda3/lib/python3.7/site-packages (from clevercsv->-r ../requirements.txt (line 2)) (3.0.4)\n",
      "Requirement already satisfied: regex==2018.11.22 in /Users/tceritli/anaconda3/lib/python3.7/site-packages (from clevercsv->-r ../requirements.txt (line 2)) (2018.11.22)\n",
      "Requirement already satisfied: lxml==4.3.4 in /Users/tceritli/anaconda3/lib/python3.7/site-packages (from clevercsv->-r ../requirements.txt (line 2)) (4.3.4)\n",
      "Requirement already satisfied: six==1.12.0 in /Users/tceritli/anaconda3/lib/python3.7/site-packages (from clevercsv->-r ../requirements.txt (line 2)) (1.12.0)\n",
      "Requirement already satisfied: colorama==0.4.1 in /Users/tceritli/anaconda3/lib/python3.7/site-packages (from clevercsv->-r ../requirements.txt (line 2)) (0.4.1)\n",
      "Requirement already satisfied: python-dateutil==2.8.0 in /Users/tceritli/anaconda3/lib/python3.7/site-packages (from clevercsv->-r ../requirements.txt (line 2)) (2.8.0)\n",
      "Requirement already satisfied: clikit==0.3.1 in /Users/tceritli/anaconda3/lib/python3.7/site-packages (from clevercsv->-r ../requirements.txt (line 2)) (0.3.1)\n",
      "Requirement already satisfied: pylev==1.3.0 in /Users/tceritli/anaconda3/lib/python3.7/site-packages (from clevercsv->-r ../requirements.txt (line 2)) (1.3.0)\n",
      "Requirement already satisfied: pastel==0.1.0 in /Users/tceritli/anaconda3/lib/python3.7/site-packages (from clevercsv->-r ../requirements.txt (line 2)) (0.1.0)\n",
      "Requirement already satisfied: coverage==4.5.3 in /Users/tceritli/anaconda3/lib/python3.7/site-packages (from clevercsv->-r ../requirements.txt (line 2)) (4.5.3)\n",
      "Requirement already satisfied: pytz==2019.1 in /Users/tceritli/anaconda3/lib/python3.7/site-packages (from clevercsv->-r ../requirements.txt (line 2)) (2019.1)\n",
      "Requirement already satisfied: tabview==1.4.3 in /Users/tceritli/anaconda3/lib/python3.7/site-packages (from clevercsv->-r ../requirements.txt (line 2)) (1.4.3)\n",
      "Requirement already satisfied: cleo==0.7.5 in /Users/tceritli/anaconda3/lib/python3.7/site-packages (from clevercsv->-r ../requirements.txt (line 2)) (0.7.5)\n",
      "Requirement already satisfied: kiwisolver>=1.0.1 in /Users/tceritli/anaconda3/lib/python3.7/site-packages (from matplotlib->-r ../requirements.txt (line 4)) (1.0.1)\n",
      "Requirement already satisfied: cycler>=0.10 in /Users/tceritli/anaconda3/lib/python3.7/site-packages (from matplotlib->-r ../requirements.txt (line 4)) (0.10.0)\n",
      "Requirement already satisfied: pyparsing!=2.0.4,!=2.1.2,!=2.1.6,>=2.0.1 in /Users/tceritli/anaconda3/lib/python3.7/site-packages (from matplotlib->-r ../requirements.txt (line 4)) (2.3.1)\n",
      "Requirement already satisfied: jupyter-client in /Users/tceritli/anaconda3/lib/python3.7/site-packages (from nbval->-r ../requirements.txt (line 5)) (5.2.4)\n",
      "Requirement already satisfied: pytest>=2.8 in /Users/tceritli/anaconda3/lib/python3.7/site-packages (from nbval->-r ../requirements.txt (line 5)) (4.3.1)\n",
      "Requirement already satisfied: nbformat in /Users/tceritli/anaconda3/lib/python3.7/site-packages (from nbval->-r ../requirements.txt (line 5)) (4.4.0)\n",
      "Requirement already satisfied: ipykernel in /Users/tceritli/anaconda3/lib/python3.7/site-packages (from nbval->-r ../requirements.txt (line 5)) (5.1.0)\n",
      "Requirement already satisfied: joblib>=0.11 in /Users/tceritli/anaconda3/lib/python3.7/site-packages (from scikit-learn->-r ../requirements.txt (line 9)) (0.12.5)\n",
      "Requirement already satisfied: threadpoolctl>=2.0.0 in /Users/tceritli/anaconda3/lib/python3.7/site-packages (from scikit-learn->-r ../requirements.txt (line 9)) (2.0.0)\n",
      "Requirement already satisfied: setuptools in /Users/tceritli/anaconda3/lib/python3.7/site-packages (from kiwisolver>=1.0.1->matplotlib->-r ../requirements.txt (line 4)) (40.8.0)\n",
      "Requirement already satisfied: tornado>=4.1 in /Users/tceritli/anaconda3/lib/python3.7/site-packages (from jupyter-client->nbval->-r ../requirements.txt (line 5)) (6.0.2)\n",
      "Requirement already satisfied: traitlets in /Users/tceritli/anaconda3/lib/python3.7/site-packages (from jupyter-client->nbval->-r ../requirements.txt (line 5)) (4.3.2)\n",
      "Requirement already satisfied: jupyter-core in /Users/tceritli/anaconda3/lib/python3.7/site-packages (from jupyter-client->nbval->-r ../requirements.txt (line 5)) (4.4.0)\n",
      "Requirement already satisfied: pyzmq>=13 in /Users/tceritli/anaconda3/lib/python3.7/site-packages (from jupyter-client->nbval->-r ../requirements.txt (line 5)) (18.0.0)\n",
      "Requirement already satisfied: py>=1.5.0 in /Users/tceritli/anaconda3/lib/python3.7/site-packages (from pytest>=2.8->nbval->-r ../requirements.txt (line 5)) (1.8.0)\n",
      "Requirement already satisfied: attrs>=17.4.0 in /Users/tceritli/anaconda3/lib/python3.7/site-packages (from pytest>=2.8->nbval->-r ../requirements.txt (line 5)) (19.1.0)\n",
      "Requirement already satisfied: atomicwrites>=1.0 in /Users/tceritli/anaconda3/lib/python3.7/site-packages (from pytest>=2.8->nbval->-r ../requirements.txt (line 5)) (1.3.0)\n",
      "Requirement already satisfied: pluggy>=0.7 in /Users/tceritli/anaconda3/lib/python3.7/site-packages (from pytest>=2.8->nbval->-r ../requirements.txt (line 5)) (0.9.0)\n",
      "Requirement already satisfied: more-itertools>=4.0.0 in /Users/tceritli/anaconda3/lib/python3.7/site-packages (from pytest>=2.8->nbval->-r ../requirements.txt (line 5)) (6.0.0)\n",
      "Requirement already satisfied: jsonschema!=2.5.0,>=2.4 in /Users/tceritli/anaconda3/lib/python3.7/site-packages (from nbformat->nbval->-r ../requirements.txt (line 5)) (3.0.1)\n",
      "Requirement already satisfied: ipython-genutils in /Users/tceritli/anaconda3/lib/python3.7/site-packages (from nbformat->nbval->-r ../requirements.txt (line 5)) (0.2.0)\n",
      "Requirement already satisfied: ipython>=5.0.0 in /Users/tceritli/anaconda3/lib/python3.7/site-packages (from ipykernel->nbval->-r ../requirements.txt (line 5)) (7.4.0)\n",
      "Requirement already satisfied: decorator in /Users/tceritli/anaconda3/lib/python3.7/site-packages (from traitlets->jupyter-client->nbval->-r ../requirements.txt (line 5)) (4.4.0)\n",
      "Requirement already satisfied: pyrsistent>=0.14.0 in /Users/tceritli/anaconda3/lib/python3.7/site-packages (from jsonschema!=2.5.0,>=2.4->nbformat->nbval->-r ../requirements.txt (line 5)) (0.14.11)\n",
      "Requirement already satisfied: pexpect; sys_platform != \"win32\" in /Users/tceritli/anaconda3/lib/python3.7/site-packages (from ipython>=5.0.0->ipykernel->nbval->-r ../requirements.txt (line 5)) (4.6.0)\n",
      "Requirement already satisfied: prompt-toolkit<2.1.0,>=2.0.0 in /Users/tceritli/anaconda3/lib/python3.7/site-packages (from ipython>=5.0.0->ipykernel->nbval->-r ../requirements.txt (line 5)) (2.0.9)\n",
      "Requirement already satisfied: jedi>=0.10 in /Users/tceritli/anaconda3/lib/python3.7/site-packages (from ipython>=5.0.0->ipykernel->nbval->-r ../requirements.txt (line 5)) (0.13.3)\n",
      "Requirement already satisfied: pickleshare in /Users/tceritli/anaconda3/lib/python3.7/site-packages (from ipython>=5.0.0->ipykernel->nbval->-r ../requirements.txt (line 5)) (0.7.5)\n",
      "Requirement already satisfied: appnope; sys_platform == \"darwin\" in /Users/tceritli/anaconda3/lib/python3.7/site-packages (from ipython>=5.0.0->ipykernel->nbval->-r ../requirements.txt (line 5)) (0.1.0)\n",
      "Requirement already satisfied: backcall in /Users/tceritli/anaconda3/lib/python3.7/site-packages (from ipython>=5.0.0->ipykernel->nbval->-r ../requirements.txt (line 5)) (0.1.0)\n",
      "Requirement already satisfied: pygments in /Users/tceritli/anaconda3/lib/python3.7/site-packages (from ipython>=5.0.0->ipykernel->nbval->-r ../requirements.txt (line 5)) (2.3.1)\n",
      "Requirement already satisfied: ptyprocess>=0.5 in /Users/tceritli/anaconda3/lib/python3.7/site-packages (from pexpect; sys_platform != \"win32\"->ipython>=5.0.0->ipykernel->nbval->-r ../requirements.txt (line 5)) (0.6.0)\n",
      "Requirement already satisfied: wcwidth in /Users/tceritli/anaconda3/lib/python3.7/site-packages (from prompt-toolkit<2.1.0,>=2.0.0->ipython>=5.0.0->ipykernel->nbval->-r ../requirements.txt (line 5)) (0.1.7)\n",
      "Requirement already satisfied: parso>=0.3.0 in /Users/tceritli/anaconda3/lib/python3.7/site-packages (from jedi>=0.10->ipython>=5.0.0->ipykernel->nbval->-r ../requirements.txt (line 5)) (0.3.4)\n"
     ]
    }
   ],
   "source": [
    "# Preamble to run notebook in context of source package.\n",
    "# NBVAL_IGNORE_OUTPUT\n",
    "import sys\n",
    "sys.path.insert(0, '../')\n",
    "!{sys.executable} -m pip install -r ../requirements.txt\n"
   ]
  },
  {
   "cell_type": "code",
   "execution_count": 2,
   "metadata": {},
   "outputs": [],
   "source": [
    "from IPython.core.display import display, HTML\n",
    "\n",
    "import matplotlib.pyplot as plt\n",
    "%matplotlib inline\n",
    "plt.rcdefaults()\n",
    "\n",
    "from ptype.Ptype import Ptype\n",
    "from ptype.utils import evaluate_types\n",
    "import pandas as pd\n",
    "import numpy as np\n",
    "from utils import *"
   ]
  },
  {
   "cell_type": "code",
   "execution_count": 3,
   "metadata": {},
   "outputs": [],
   "source": [
    "ptype = Ptype()"
   ]
  },
  {
   "cell_type": "markdown",
   "metadata": {},
   "source": [
    "# 1. Incorrect Column Type Prediction\n",
    "\n",
    "## 1.a Incorrect Type Prediction"
   ]
  },
  {
   "cell_type": "code",
   "execution_count": 4,
   "metadata": {},
   "outputs": [
    {
     "data": {
      "text/html": [
       "<div>\n",
       "<style scoped>\n",
       "    .dataframe tbody tr th:only-of-type {\n",
       "        vertical-align: middle;\n",
       "    }\n",
       "\n",
       "    .dataframe tbody tr th {\n",
       "        vertical-align: top;\n",
       "    }\n",
       "\n",
       "    .dataframe thead th {\n",
       "        text-align: right;\n",
       "    }\n",
       "</style>\n",
       "<table border=\"1\" class=\"dataframe\">\n",
       "  <thead>\n",
       "    <tr style=\"text-align: right;\">\n",
       "      <th></th>\n",
       "      <th>Time (24hr)</th>\n",
       "    </tr>\n",
       "  </thead>\n",
       "  <tbody>\n",
       "    <tr>\n",
       "      <th>293</th>\n",
       "      <td>1615</td>\n",
       "    </tr>\n",
       "    <tr>\n",
       "      <th>475</th>\n",
       "      <td>1800</td>\n",
       "    </tr>\n",
       "    <tr>\n",
       "      <th>67</th>\n",
       "      <td>1157</td>\n",
       "    </tr>\n",
       "    <tr>\n",
       "      <th>133</th>\n",
       "      <td>715</td>\n",
       "    </tr>\n",
       "    <tr>\n",
       "      <th>350</th>\n",
       "      <td>1110</td>\n",
       "    </tr>\n",
       "    <tr>\n",
       "      <th>362</th>\n",
       "      <td>57</td>\n",
       "    </tr>\n",
       "    <tr>\n",
       "      <th>160</th>\n",
       "      <td>2104</td>\n",
       "    </tr>\n",
       "    <tr>\n",
       "      <th>117</th>\n",
       "      <td>1727</td>\n",
       "    </tr>\n",
       "    <tr>\n",
       "      <th>29</th>\n",
       "      <td>1708</td>\n",
       "    </tr>\n",
       "    <tr>\n",
       "      <th>402</th>\n",
       "      <td>1910</td>\n",
       "    </tr>\n",
       "  </tbody>\n",
       "</table>\n",
       "</div>"
      ],
      "text/plain": [
       "    Time (24hr)\n",
       "293        1615\n",
       "475        1800\n",
       "67         1157\n",
       "133         715\n",
       "350        1110\n",
       "362          57\n",
       "160        2104\n",
       "117        1727\n",
       "29         1708\n",
       "402        1910"
      ]
     },
     "execution_count": 4,
     "metadata": {},
     "output_type": "execute_result"
    }
   ],
   "source": [
    "df = read_data(dataset_name=\"accident2016\", header=0)\n",
    "\n",
    "column = \"Time (24hr)\"\n",
    "df_subsample = subsample_df(df, column_to_sample_from=column, sample_num=10)\n",
    "df_subsample"
   ]
  },
  {
   "cell_type": "code",
   "execution_count": 5,
   "metadata": {},
   "outputs": [
    {
     "data": {
      "image/png": "[encoded data removed]",
      "text/plain": [
       "<Figure size 432x288 with 1 Axes>"
      ]
     },
     "metadata": {
      "needs_background": "light"
     },
     "output_type": "display_data"
    }
   ],
   "source": [
    "ptype.run_inference(_data_frame=df_subsample)\n",
    "\n",
    "plot_column_type_posterior(ptype, column=column)"
   ]
  },
  {
   "cell_type": "code",
   "execution_count": 6,
   "metadata": {},
   "outputs": [
    {
     "name": "stdout",
     "output_type": "stream",
     "text": [
      "The column type of Time (24hr) is changed from integer to date\n"
     ]
    },
    {
     "data": {
      "image/png": "[encoded data removed]",
      "text/plain": [
       "<Figure size 432x288 with 1 Axes>"
      ]
     },
     "metadata": {
      "needs_background": "light"
     },
     "output_type": "display_data"
    }
   ],
   "source": [
    "ptype.change_column_type_annotations([column], ['date'])\n",
    "\n",
    "plot_column_type_posterior(ptype, column=column)"
   ]
  },
  {
   "cell_type": "markdown",
   "metadata": {},
   "source": [
    "## 1.b Uniform posterior distribution"
   ]
  },
  {
   "cell_type": "code",
   "execution_count": 7,
   "metadata": {},
   "outputs": [
    {
     "data": {
      "text/html": [
       "<div>\n",
       "<style scoped>\n",
       "    .dataframe tbody tr th:only-of-type {\n",
       "        vertical-align: middle;\n",
       "    }\n",
       "\n",
       "    .dataframe tbody tr th {\n",
       "        vertical-align: top;\n",
       "    }\n",
       "\n",
       "    .dataframe thead th {\n",
       "        text-align: right;\n",
       "    }\n",
       "</style>\n",
       "<table border=\"1\" class=\"dataframe\">\n",
       "  <thead>\n",
       "    <tr style=\"text-align: right;\">\n",
       "      <th></th>\n",
       "      <th>Provision type</th>\n",
       "    </tr>\n",
       "  </thead>\n",
       "  <tbody>\n",
       "    <tr>\n",
       "      <th>37</th>\n",
       "      <td>Children's home</td>\n",
       "    </tr>\n",
       "    <tr>\n",
       "      <th>140</th>\n",
       "      <td>Children's home</td>\n",
       "    </tr>\n",
       "    <tr>\n",
       "      <th>1090</th>\n",
       "      <td>Children's home</td>\n",
       "    </tr>\n",
       "    <tr>\n",
       "      <th>661</th>\n",
       "      <td>Children's home</td>\n",
       "    </tr>\n",
       "    <tr>\n",
       "      <th>53</th>\n",
       "      <td>Children's home</td>\n",
       "    </tr>\n",
       "    <tr>\n",
       "      <th>330</th>\n",
       "      <td>Children's home</td>\n",
       "    </tr>\n",
       "    <tr>\n",
       "      <th>1101</th>\n",
       "      <td>Children's home</td>\n",
       "    </tr>\n",
       "    <tr>\n",
       "      <th>1147</th>\n",
       "      <td>Children's home</td>\n",
       "    </tr>\n",
       "    <tr>\n",
       "      <th>1281</th>\n",
       "      <td>Children's home</td>\n",
       "    </tr>\n",
       "    <tr>\n",
       "      <th>906</th>\n",
       "      <td>Children's home</td>\n",
       "    </tr>\n",
       "  </tbody>\n",
       "</table>\n",
       "</div>"
      ],
      "text/plain": [
       "       Provision type\n",
       "37    Children's home\n",
       "140   Children's home\n",
       "1090  Children's home\n",
       "661   Children's home\n",
       "53    Children's home\n",
       "330   Children's home\n",
       "1101  Children's home\n",
       "1147  Children's home\n",
       "1281  Children's home\n",
       "906   Children's home"
      ]
     },
     "execution_count": 7,
     "metadata": {},
     "output_type": "execute_result"
    }
   ],
   "source": [
    "df = read_data(dataset_name='inspection_outcomes', header=0)\n",
    "\n",
    "column = 'Provision type'\n",
    "df_subsample = subsample_df(df, column_to_sample_from = column, sample_num = 10)\n",
    "df_subsample"
   ]
  },
  {
   "cell_type": "code",
   "execution_count": 8,
   "metadata": {},
   "outputs": [
    {
     "data": {
      "image/png": "[encoded data removed]",
      "text/plain": [
       "<Figure size 432x288 with 1 Axes>"
      ]
     },
     "metadata": {
      "needs_background": "light"
     },
     "output_type": "display_data"
    }
   ],
   "source": [
    "ptype.run_inference(_data_frame=df_subsample)\n",
    "\n",
    "plot_column_type_posterior(ptype, column=column)"
   ]
  },
  {
   "cell_type": "code",
   "execution_count": 9,
   "metadata": {},
   "outputs": [
    {
     "name": "stdout",
     "output_type": "stream",
     "text": [
      "The column type of Provision type is changed from all identical to string\n"
     ]
    },
    {
     "data": {
      "image/png": "[encoded data removed]",
      "text/plain": [
       "<Figure size 432x288 with 1 Axes>"
      ]
     },
     "metadata": {
      "needs_background": "light"
     },
     "output_type": "display_data"
    }
   ],
   "source": [
    "ptype.change_column_type_annotations([column], ['string'])\n",
    "# add the character to the alphabet?\n",
    "\n",
    "plot_column_type_posterior(ptype, column=column)"
   ]
  },
  {
   "cell_type": "markdown",
   "metadata": {},
   "source": [
    "# 2. Incorrect Missing Data Prediction"
   ]
  },
  {
   "cell_type": "code",
   "execution_count": 10,
   "metadata": {},
   "outputs": [
    {
     "data": {
      "text/html": [
       "<div>\n",
       "<style scoped>\n",
       "    .dataframe tbody tr th:only-of-type {\n",
       "        vertical-align: middle;\n",
       "    }\n",
       "\n",
       "    .dataframe tbody tr th {\n",
       "        vertical-align: top;\n",
       "    }\n",
       "\n",
       "    .dataframe thead th {\n",
       "        text-align: right;\n",
       "    }\n",
       "</style>\n",
       "<table border=\"1\" class=\"dataframe\">\n",
       "  <thead>\n",
       "    <tr style=\"text-align: right;\">\n",
       "      <th></th>\n",
       "      <th>0</th>\n",
       "    </tr>\n",
       "  </thead>\n",
       "  <tbody>\n",
       "    <tr>\n",
       "      <th>78</th>\n",
       "      <td>2</td>\n",
       "    </tr>\n",
       "    <tr>\n",
       "      <th>97</th>\n",
       "      <td>1</td>\n",
       "    </tr>\n",
       "    <tr>\n",
       "      <th>151</th>\n",
       "      <td>1</td>\n",
       "    </tr>\n",
       "    <tr>\n",
       "      <th>44</th>\n",
       "      <td>1</td>\n",
       "    </tr>\n",
       "    <tr>\n",
       "      <th>40</th>\n",
       "      <td>0</td>\n",
       "    </tr>\n",
       "    <tr>\n",
       "      <th>67</th>\n",
       "      <td>-1</td>\n",
       "    </tr>\n",
       "    <tr>\n",
       "      <th>98</th>\n",
       "      <td>2</td>\n",
       "    </tr>\n",
       "    <tr>\n",
       "      <th>18</th>\n",
       "      <td>2</td>\n",
       "    </tr>\n",
       "    <tr>\n",
       "      <th>152</th>\n",
       "      <td>1</td>\n",
       "    </tr>\n",
       "    <tr>\n",
       "      <th>62</th>\n",
       "      <td>0</td>\n",
       "    </tr>\n",
       "  </tbody>\n",
       "</table>\n",
       "</div>"
      ],
      "text/plain": [
       "      0\n",
       "78    2\n",
       "97    1\n",
       "151   1\n",
       "44    1\n",
       "40    0\n",
       "67   -1\n",
       "98    2\n",
       "18    2\n",
       "152   1\n",
       "62    0"
      ]
     },
     "execution_count": 10,
     "metadata": {},
     "output_type": "execute_result"
    }
   ],
   "source": [
    "df = read_data(dataset_name='auto')\n",
    "column = 0\n",
    "df_subsample = subsample_df(df, column_to_sample_from = column, sample_num = 10)\n",
    "df_subsample"
   ]
  },
  {
   "cell_type": "code",
   "execution_count": 11,
   "metadata": {},
   "outputs": [
    {
     "data": {
      "image/png": "[encoded data removed]",
      "text/plain": [
       "<Figure size 432x288 with 1 Axes>"
      ]
     },
     "metadata": {
      "needs_background": "light"
     },
     "output_type": "display_data"
    },
    {
     "data": {
      "image/png": "[encoded data removed]",
      "text/plain": [
       "<Figure size 432x288 with 1 Axes>"
      ]
     },
     "metadata": {
      "needs_background": "light"
     },
     "output_type": "display_data"
    }
   ],
   "source": [
    "ptype.run_inference(_data_frame=df_subsample)\n",
    "\n",
    "plot_column_type_posterior(ptype, column=column)\n",
    "\n",
    "plot_row_type_posterior(ptype, column=column, t='missing')"
   ]
  },
  {
   "cell_type": "code",
   "execution_count": 12,
   "metadata": {},
   "outputs": [
    {
     "data": {
      "image/png": "[encoded data removed]",
      "text/plain": [
       "<Figure size 432x288 with 1 Axes>"
      ]
     },
     "metadata": {
      "needs_background": "light"
     },
     "output_type": "display_data"
    }
   ],
   "source": [
    "ptype.change_missing_data_annotations(column, ['-1'])\n",
    "\n",
    "\n",
    "# update the column type posterior?\n",
    "# plot_column_type_posterior(ptype, column=column)\n",
    "\n",
    "plot_row_type_posterior(ptype, column=column, t='missing')"
   ]
  },
  {
   "cell_type": "code",
   "execution_count": 13,
   "metadata": {},
   "outputs": [
    {
     "name": "stdout",
     "output_type": "stream",
     "text": [
      "col: 0\n",
      "\tpredicted type: integer\n",
      "\tposterior probs:  [6.72716250e-001 1.67147104e-087 3.27283750e-001 5.08176942e-049\n",
      " 7.44185389e-124 7.44185389e-124 7.44185389e-124 7.44185389e-124\n",
      " 7.44185389e-124]\n",
      "\ttypes:  ['integer', 'string', 'float', 'boolean', 'gender', 'date-iso-8601', 'date-eu', 'date-non-std-subtype', 'date-non-std'] \n",
      "\n",
      "\tsome normal data values:  ['-1', '0', '1', '2']\n",
      "\ttheir counts:  [1, 2, 4, 3]\n",
      "\tfraction of normal: 1.0 \n",
      "\n"
     ]
    }
   ],
   "source": [
    "ptype.show_results([column,])"
   ]
  },
  {
   "cell_type": "markdown",
   "metadata": {},
   "source": [
    "# 3. a Incorrect Anomaly Prediction"
   ]
  },
  {
   "cell_type": "code",
   "execution_count": 14,
   "metadata": {
    "scrolled": false
   },
   "outputs": [
    {
     "data": {
      "text/html": [
       "<div>\n",
       "<style scoped>\n",
       "    .dataframe tbody tr th:only-of-type {\n",
       "        vertical-align: middle;\n",
       "    }\n",
       "\n",
       "    .dataframe tbody tr th {\n",
       "        vertical-align: top;\n",
       "    }\n",
       "\n",
       "    .dataframe thead th {\n",
       "        text-align: right;\n",
       "    }\n",
       "</style>\n",
       "<table border=\"1\" class=\"dataframe\">\n",
       "  <thead>\n",
       "    <tr style=\"text-align: right;\">\n",
       "      <th></th>\n",
       "      <th>Status</th>\n",
       "    </tr>\n",
       "  </thead>\n",
       "  <tbody>\n",
       "    <tr>\n",
       "      <th>92</th>\n",
       "      <td>M</td>\n",
       "    </tr>\n",
       "    <tr>\n",
       "      <th>83</th>\n",
       "      <td>M</td>\n",
       "    </tr>\n",
       "    <tr>\n",
       "      <th>32</th>\n",
       "      <td>M</td>\n",
       "    </tr>\n",
       "    <tr>\n",
       "      <th>80</th>\n",
       "      <td>M</td>\n",
       "    </tr>\n",
       "    <tr>\n",
       "      <th>78</th>\n",
       "      <td>T</td>\n",
       "    </tr>\n",
       "    <tr>\n",
       "      <th>17</th>\n",
       "      <td>M</td>\n",
       "    </tr>\n",
       "    <tr>\n",
       "      <th>35</th>\n",
       "      <td>M</td>\n",
       "    </tr>\n",
       "    <tr>\n",
       "      <th>81</th>\n",
       "      <td>M</td>\n",
       "    </tr>\n",
       "    <tr>\n",
       "      <th>88</th>\n",
       "      <td>M</td>\n",
       "    </tr>\n",
       "    <tr>\n",
       "      <th>91</th>\n",
       "      <td>M</td>\n",
       "    </tr>\n",
       "    <tr>\n",
       "      <th>45</th>\n",
       "      <td>M</td>\n",
       "    </tr>\n",
       "    <tr>\n",
       "      <th>33</th>\n",
       "      <td>M</td>\n",
       "    </tr>\n",
       "    <tr>\n",
       "      <th>54</th>\n",
       "      <td>M</td>\n",
       "    </tr>\n",
       "    <tr>\n",
       "      <th>77</th>\n",
       "      <td>M</td>\n",
       "    </tr>\n",
       "    <tr>\n",
       "      <th>62</th>\n",
       "      <td>M</td>\n",
       "    </tr>\n",
       "    <tr>\n",
       "      <th>31</th>\n",
       "      <td>M</td>\n",
       "    </tr>\n",
       "    <tr>\n",
       "      <th>58</th>\n",
       "      <td>M</td>\n",
       "    </tr>\n",
       "    <tr>\n",
       "      <th>48</th>\n",
       "      <td>M</td>\n",
       "    </tr>\n",
       "    <tr>\n",
       "      <th>87</th>\n",
       "      <td>U</td>\n",
       "    </tr>\n",
       "    <tr>\n",
       "      <th>10</th>\n",
       "      <td>M</td>\n",
       "    </tr>\n",
       "  </tbody>\n",
       "</table>\n",
       "</div>"
      ],
      "text/plain": [
       "   Status\n",
       "92      M\n",
       "83      M\n",
       "32      M\n",
       "80      M\n",
       "78      T\n",
       "17      M\n",
       "35      M\n",
       "81      M\n",
       "88      M\n",
       "91      M\n",
       "45      M\n",
       "33      M\n",
       "54      M\n",
       "77      M\n",
       "62      M\n",
       "31      M\n",
       "58      M\n",
       "48      M\n",
       "87      U\n",
       "10      M"
      ]
     },
     "execution_count": 14,
     "metadata": {},
     "output_type": "execute_result"
    }
   ],
   "source": [
    "column = 'Status'\n",
    "df = read_data(dataset_name='data_gov_10151_1', header=0)\n",
    "df_subsample = subsample_df(df, column_to_sample_from = column, sample_num = 20)\n",
    "df_subsample"
   ]
  },
  {
   "cell_type": "code",
   "execution_count": 15,
   "metadata": {},
   "outputs": [
    {
     "data": {
      "image/png": "[encoded data removed]",
      "text/plain": [
       "<Figure size 432x288 with 1 Axes>"
      ]
     },
     "metadata": {
      "needs_background": "light"
     },
     "output_type": "display_data"
    }
   ],
   "source": [
    "unique_values, counts = np.unique(\n",
    "    [str(int_element) for int_element in df_subsample[column].tolist()],\n",
    "    return_counts=True,\n",
    ")\n",
    "plot_bar(\n",
    "    unique_values,\n",
    "    counts,\n",
    "    title=\"counts of the unique data values\",\n",
    "    y_lim_max=None,\n",
    "    xlabel=\"Unique Value\",\n",
    "    ylabel=\"Counts\",\n",
    ")"
   ]
  },
  {
   "cell_type": "code",
   "execution_count": 16,
   "metadata": {},
   "outputs": [
    {
     "data": {
      "image/png": "[encoded data removed]",
      "text/plain": [
       "<Figure size 432x288 with 1 Axes>"
      ]
     },
     "metadata": {
      "needs_background": "light"
     },
     "output_type": "display_data"
    },
    {
     "name": "stdout",
     "output_type": "stream",
     "text": [
      "Normal Values ['M']\n",
      "Anomalous Values ['T' 'U']\n"
     ]
    },
    {
     "data": {
      "image/png": "[encoded data removed]",
      "text/plain": [
       "<Figure size 432x288 with 1 Axes>"
      ]
     },
     "metadata": {
      "needs_background": "light"
     },
     "output_type": "display_data"
    }
   ],
   "source": [
    "ptype.run_inference(_data_frame=df_subsample)\n",
    "\n",
    "plot_column_type_posterior(ptype, column=column)\n",
    "\n",
    "print('Normal Values', unique_values[ptype.normal_types[column]])\n",
    "print('Anomalous Values', unique_values[ptype.anomaly_types[column]])\n",
    "plot_row_type_posterior(ptype, column=column, t='anomaly')"
   ]
  },
  {
   "cell_type": "code",
   "execution_count": 17,
   "metadata": {},
   "outputs": [
    {
     "name": "stdout",
     "output_type": "stream",
     "text": [
      "Normal Values ['M' 'T' 'U']\n",
      "Anomalous Values []\n"
     ]
    },
    {
     "name": "stderr",
     "output_type": "stream",
     "text": [
      "../ptype/Ptype.py:659: RuntimeWarning: invalid value encountered in true_divide\n",
      "  self.p_z_columns[_column_name] = p_z / p_z.sum(axis=1)[:, np.newaxis]\n"
     ]
    },
    {
     "data": {
      "image/png": "[encoded data removed]",
      "text/plain": [
       "<Figure size 432x288 with 1 Axes>"
      ]
     },
     "metadata": {
      "needs_background": "light"
     },
     "output_type": "display_data"
    }
   ],
   "source": [
    "ptype.change_anomaly_annotations(column, ['T', 'U'])\n",
    "\n",
    "print('Normal Values', unique_values[ptype.normal_types[column]])\n",
    "print('Anomalous Values', unique_values[ptype.anomaly_types[column]])\n",
    "plot_row_type_posterior(ptype, column=column, t='anomaly')"
   ]
  },
  {
   "cell_type": "markdown",
   "metadata": {},
   "source": [
    "# 3.b Incorrect Anomaly Prediction"
   ]
  },
  {
   "cell_type": "code",
   "execution_count": 18,
   "metadata": {},
   "outputs": [
    {
     "data": {
      "text/html": [
       "<div>\n",
       "<style scoped>\n",
       "    .dataframe tbody tr th:only-of-type {\n",
       "        vertical-align: middle;\n",
       "    }\n",
       "\n",
       "    .dataframe tbody tr th {\n",
       "        vertical-align: top;\n",
       "    }\n",
       "\n",
       "    .dataframe thead th {\n",
       "        text-align: right;\n",
       "    }\n",
       "</style>\n",
       "<table border=\"1\" class=\"dataframe\">\n",
       "  <thead>\n",
       "    <tr style=\"text-align: right;\">\n",
       "      <th></th>\n",
       "      <th>Gender</th>\n",
       "    </tr>\n",
       "  </thead>\n",
       "  <tbody>\n",
       "    <tr>\n",
       "      <th>972</th>\n",
       "      <td>Male</td>\n",
       "    </tr>\n",
       "    <tr>\n",
       "      <th>719</th>\n",
       "      <td>Man</td>\n",
       "    </tr>\n",
       "    <tr>\n",
       "      <th>979</th>\n",
       "      <td>Male</td>\n",
       "    </tr>\n",
       "    <tr>\n",
       "      <th>550</th>\n",
       "      <td>Woman</td>\n",
       "    </tr>\n",
       "    <tr>\n",
       "      <th>512</th>\n",
       "      <td>M</td>\n",
       "    </tr>\n",
       "    <tr>\n",
       "      <th>119</th>\n",
       "      <td>Male</td>\n",
       "    </tr>\n",
       "    <tr>\n",
       "      <th>1206</th>\n",
       "      <td>Male</td>\n",
       "    </tr>\n",
       "    <tr>\n",
       "      <th>107</th>\n",
       "      <td>Male</td>\n",
       "    </tr>\n",
       "    <tr>\n",
       "      <th>653</th>\n",
       "      <td>Female</td>\n",
       "    </tr>\n",
       "    <tr>\n",
       "      <th>1074</th>\n",
       "      <td>m</td>\n",
       "    </tr>\n",
       "  </tbody>\n",
       "</table>\n",
       "</div>"
      ],
      "text/plain": [
       "      Gender\n",
       "972     Male\n",
       "719      Man\n",
       "979     Male\n",
       "550    Woman\n",
       "512        M\n",
       "119     Male\n",
       "1206    Male\n",
       "107     Male\n",
       "653   Female\n",
       "1074       m"
      ]
     },
     "metadata": {},
     "output_type": "display_data"
    },
    {
     "data": {
      "image/png": "[encoded data removed]",
      "text/plain": [
       "<Figure size 432x288 with 1 Axes>"
      ]
     },
     "metadata": {
      "needs_background": "light"
     },
     "output_type": "display_data"
    }
   ],
   "source": [
    "df = read_data(dataset_name=\"survey\", header=0)\n",
    "\n",
    "column = \"Gender\"\n",
    "df_subsample = subsample_df(df, column_to_sample_from=column, sample_num=10)\n",
    "display(df_subsample)\n",
    "\n",
    "unique_values, counts = np.unique(\n",
    "    [str(int_element) for int_element in df_subsample[column].tolist()],\n",
    "    return_counts=True,\n",
    ")\n",
    "plot_bar(\n",
    "    unique_values,\n",
    "    counts,\n",
    "    title=\"counts of the unique data values\",\n",
    "    y_lim_max=None,\n",
    "    xlabel=\"Unique Value\",\n",
    "    ylabel=\"Counts\",\n",
    ")"
   ]
  },
  {
   "cell_type": "code",
   "execution_count": 19,
   "metadata": {},
   "outputs": [
    {
     "data": {
      "image/png": "[encoded data removed]",
      "text/plain": [
       "<Figure size 432x288 with 1 Axes>"
      ]
     },
     "metadata": {
      "needs_background": "light"
     },
     "output_type": "display_data"
    },
    {
     "name": "stdout",
     "output_type": "stream",
     "text": [
      "Normal Values ['Female' 'M' 'Male' 'm']\n",
      "Anomalous Values ['Man' 'Woman']\n"
     ]
    },
    {
     "data": {
      "image/png": "[encoded data removed]",
      "text/plain": [
       "<Figure size 432x288 with 1 Axes>"
      ]
     },
     "metadata": {
      "needs_background": "light"
     },
     "output_type": "display_data"
    }
   ],
   "source": [
    "ptype.run_inference(_data_frame=df_subsample)\n",
    "\n",
    "plot_column_type_posterior(ptype, column=column)\n",
    "\n",
    "print(\"Normal Values\", unique_values[ptype.normal_types[column]])\n",
    "print(\"Anomalous Values\", unique_values[ptype.anomaly_types[column]])\n",
    "\n",
    "plot_row_type_posterior(ptype, column, t='anomaly')"
   ]
  },
  {
   "cell_type": "markdown",
   "metadata": {},
   "source": [
    "# 4. Multiple Missing Data Encodings"
   ]
  },
  {
   "cell_type": "code",
   "execution_count": 20,
   "metadata": {
    "scrolled": false
   },
   "outputs": [
    {
     "data": {
      "text/html": [
       "<div>\n",
       "<style scoped>\n",
       "    .dataframe tbody tr th:only-of-type {\n",
       "        vertical-align: middle;\n",
       "    }\n",
       "\n",
       "    .dataframe tbody tr th {\n",
       "        vertical-align: top;\n",
       "    }\n",
       "\n",
       "    .dataframe thead th {\n",
       "        text-align: right;\n",
       "    }\n",
       "</style>\n",
       "<table border=\"1\" class=\"dataframe\">\n",
       "  <thead>\n",
       "    <tr style=\"text-align: right;\">\n",
       "      <th></th>\n",
       "      <th>LRE Ages 3-5 - Full Incl #</th>\n",
       "    </tr>\n",
       "  </thead>\n",
       "  <tbody>\n",
       "    <tr>\n",
       "      <th>3085</th>\n",
       "      <td></td>\n",
       "    </tr>\n",
       "    <tr>\n",
       "      <th>2398</th>\n",
       "      <td></td>\n",
       "    </tr>\n",
       "    <tr>\n",
       "      <th>2579</th>\n",
       "      <td></td>\n",
       "    </tr>\n",
       "    <tr>\n",
       "      <th>1776</th>\n",
       "      <td></td>\n",
       "    </tr>\n",
       "    <tr>\n",
       "      <th>3</th>\n",
       "      <td>16</td>\n",
       "    </tr>\n",
       "    <tr>\n",
       "      <th>136</th>\n",
       "      <td>38</td>\n",
       "    </tr>\n",
       "    <tr>\n",
       "      <th>700</th>\n",
       "      <td>-</td>\n",
       "    </tr>\n",
       "    <tr>\n",
       "      <th>1578</th>\n",
       "      <td></td>\n",
       "    </tr>\n",
       "    <tr>\n",
       "      <th>1964</th>\n",
       "      <td></td>\n",
       "    </tr>\n",
       "    <tr>\n",
       "      <th>457</th>\n",
       "      <td>-</td>\n",
       "    </tr>\n",
       "    <tr>\n",
       "      <th>1601</th>\n",
       "      <td></td>\n",
       "    </tr>\n",
       "    <tr>\n",
       "      <th>2088</th>\n",
       "      <td></td>\n",
       "    </tr>\n",
       "    <tr>\n",
       "      <th>1723</th>\n",
       "      <td></td>\n",
       "    </tr>\n",
       "    <tr>\n",
       "      <th>1363</th>\n",
       "      <td>N/A</td>\n",
       "    </tr>\n",
       "    <tr>\n",
       "      <th>2919</th>\n",
       "      <td></td>\n",
       "    </tr>\n",
       "    <tr>\n",
       "      <th>1551</th>\n",
       "      <td>N/A</td>\n",
       "    </tr>\n",
       "    <tr>\n",
       "      <th>630</th>\n",
       "      <td>-</td>\n",
       "    </tr>\n",
       "    <tr>\n",
       "      <th>2515</th>\n",
       "      <td></td>\n",
       "    </tr>\n",
       "    <tr>\n",
       "      <th>2455</th>\n",
       "      <td></td>\n",
       "    </tr>\n",
       "    <tr>\n",
       "      <th>301</th>\n",
       "      <td>11</td>\n",
       "    </tr>\n",
       "  </tbody>\n",
       "</table>\n",
       "</div>"
      ],
      "text/plain": [
       "     LRE Ages 3-5 - Full Incl #\n",
       "3085                           \n",
       "2398                           \n",
       "2579                           \n",
       "1776                           \n",
       "3                            16\n",
       "136                          38\n",
       "700                           -\n",
       "1578                           \n",
       "1964                           \n",
       "457                           -\n",
       "1601                           \n",
       "2088                           \n",
       "1723                           \n",
       "1363                        N/A\n",
       "2919                           \n",
       "1551                        N/A\n",
       "630                           -\n",
       "2515                           \n",
       "2455                           \n",
       "301                          11"
      ]
     },
     "metadata": {},
     "output_type": "display_data"
    },
    {
     "data": {
      "image/png": "[encoded data removed]",
      "text/plain": [
       "<Figure size 432x288 with 1 Axes>"
      ]
     },
     "metadata": {
      "needs_background": "light"
     },
     "output_type": "display_data"
    }
   ],
   "source": [
    "df = read_data(\"mass_6\", header=0)\n",
    "\n",
    "column = \"LRE Ages 3-5 - Full Incl #\"\n",
    "df_subsample = subsample_df(df, column_to_sample_from=column, sample_num=20)\n",
    "display(df_subsample)\n",
    "\n",
    "unique_values, counts = np.unique(\n",
    "    [str(int_element) for int_element in df_subsample[column].tolist()],\n",
    "    return_counts=True,\n",
    ")\n",
    "plot_bar(\n",
    "    unique_values,\n",
    "    counts,\n",
    "    title=\"counts of the unique data values\",\n",
    "    y_lim_max=None,\n",
    "    xlabel=\"Unique Value\",\n",
    "    ylabel=\"Counts\",\n",
    ")"
   ]
  },
  {
   "cell_type": "code",
   "execution_count": 21,
   "metadata": {},
   "outputs": [
    {
     "data": {
      "image/png": "[encoded data removed]",
      "text/plain": [
       "<Figure size 432x288 with 1 Axes>"
      ]
     },
     "metadata": {
      "needs_background": "light"
     },
     "output_type": "display_data"
    },
    {
     "name": "stdout",
     "output_type": "stream",
     "text": [
      "Normal Values ['11' '16' '38']\n",
      "Missing Values ['' '-' 'N/A']\n"
     ]
    },
    {
     "data": {
      "image/png": "[encoded data removed]",
      "text/plain": [
       "<Figure size 432x288 with 1 Axes>"
      ]
     },
     "metadata": {
      "needs_background": "light"
     },
     "output_type": "display_data"
    }
   ],
   "source": [
    "ptype.run_inference(_data_frame=df_subsample)\n",
    "\n",
    "plot_column_type_posterior(ptype, column=column)\n",
    "\n",
    "print('Normal Values', unique_values[ptype.normal_types[column]])\n",
    "print('Missing Values', unique_values[ptype.missing_types[column]])\n",
    "\n",
    "plot_row_type_posterior(ptype, column=column, t='missing')"
   ]
  },
  {
   "cell_type": "code",
   "execution_count": 22,
   "metadata": {},
   "outputs": [
    {
     "name": "stdout",
     "output_type": "stream",
     "text": [
      "Normal Values ['11' '16' '38']\n",
      "Missing Values ['NA']\n"
     ]
    },
    {
     "data": {
      "image/png": "[encoded data removed]",
      "text/plain": [
       "<Figure size 432x288 with 1 Axes>"
      ]
     },
     "metadata": {
      "needs_background": "light"
     },
     "output_type": "display_data"
    }
   ],
   "source": [
    "new_encoding = 'NA'\n",
    "ptype.merge_missing_data(column, new_encoding)\n",
    "\n",
    "unique_values, counts = np.unique(\n",
    "    [str(int_element) for int_element in ptype.model.data[column].tolist()],\n",
    "    return_counts=True,\n",
    ")\n",
    "print('Normal Values', unique_values[ptype.normal_types[column]])\n",
    "print('Missing Values', unique_values[ptype.missing_types[column]])\n",
    "\n",
    "plot_row_type_posterior(ptype, column=column, t='missing')"
   ]
  },
  {
   "cell_type": "code",
   "execution_count": null,
   "metadata": {},
   "outputs": [],
   "source": []
  },
  {
   "cell_type": "code",
   "execution_count": null,
   "metadata": {},
   "outputs": [],
   "source": []
  },
  {
   "cell_type": "code",
   "execution_count": null,
   "metadata": {},
   "outputs": [],
   "source": []
  },
  {
   "cell_type": "code",
   "execution_count": null,
   "metadata": {},
   "outputs": [],
   "source": []
  },
  {
   "cell_type": "code",
   "execution_count": null,
   "metadata": {},
   "outputs": [],
   "source": []
  },
  {
   "cell_type": "code",
   "execution_count": null,
   "metadata": {},
   "outputs": [],
   "source": []
  },
  {
   "cell_type": "code",
   "execution_count": null,
   "metadata": {},
   "outputs": [],
   "source": []
  },
  {
   "cell_type": "code",
   "execution_count": null,
   "metadata": {},
   "outputs": [],
   "source": []
  }
 ],
 "metadata": {
  "kernelspec": {
   "display_name": "Python 3",
   "language": "python",
   "name": "python3"
  },
  "language_info": {
   "codemirror_mode": {
    "name": "ipython",
    "version": 3
   },
   "file_extension": ".py",
   "mimetype": "text/x-python",
   "name": "python",
   "nbconvert_exporter": "python",
   "pygments_lexer": "ipython3",
   "version": "3.7.3"
  }
 },
 "nbformat": 4,
 "nbformat_minor": 2
}
