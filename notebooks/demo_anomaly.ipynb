{
 "cells": [
  {
   "cell_type": "markdown",
   "metadata": {},
   "source": [
    "In this notebook, we present various usecases to interact with ptype to handle anomaly type predictions."
   ]
  },
  {
   "cell_type": "code",
   "execution_count": null,
   "metadata": {},
   "outputs": [],
   "source": [
    "# Preamble to run notebook in context of source package.\n",
    "# NBVAL_IGNORE_OUTPUT\n",
    "import sys\n",
    "sys.path.insert(0, '../')\n",
    "# !{sys.executable} -m pip install -r ../requirements.txt\n"
   ]
  },
  {
   "cell_type": "code",
   "execution_count": null,
   "metadata": {},
   "outputs": [],
   "source": [
    "from IPython.core.display import display, HTML\n",
    "\n",
    "import matplotlib.pyplot as plt\n",
    "%matplotlib inline\n",
    "plt.rcdefaults()\n",
    "\n",
    "from ptype.Column import Column2ARFF\n",
    "from ptype.Ptype import Ptype\n",
    "from ptype.utils import evaluate_types\n",
    "import pandas as pd\n",
    "import numpy as np\n",
    "from utils import *"
   ]
  },
  {
   "cell_type": "code",
   "execution_count": null,
   "metadata": {},
   "outputs": [],
   "source": [
    "ptype = Ptype()"
   ]
  },
  {
   "cell_type": "markdown",
   "metadata": {},
   "source": [
    "# 1. Incorrect Anomaly Prediction"
   ]
  },
  {
   "cell_type": "code",
   "execution_count": null,
   "metadata": {
    "scrolled": false
   },
   "outputs": [],
   "source": [
    "column = 'Status'\n",
    "df = read_data(dataset_name='data_gov_10151_1', header=0)\n",
    "df_subsample = subsample_df(df, column_to_sample_from = column, sample_num = 20)\n",
    "df_subsample"
   ]
  },
  {
   "cell_type": "code",
   "execution_count": null,
   "metadata": {},
   "outputs": [],
   "source": [
    "df = read_data(dataset_name='data_gov_10151_1', header=0)\n",
    "df.head()"
   ]
  },
  {
   "cell_type": "code",
   "execution_count": null,
   "metadata": {},
   "outputs": [],
   "source": [
    "unique_values, counts = np.unique(\n",
    "    [str(int_element) for int_element in df_subsample[column].tolist()],\n",
    "    return_counts=True,\n",
    ")\n",
    "plot_bar(\n",
    "    unique_values,\n",
    "    counts,\n",
    "    title=\"counts of the unique data values\",\n",
    "    y_lim_max=None,\n",
    "    xlabel=\"Unique Value\",\n",
    "    ylabel=\"Counts\",\n",
    ")"
   ]
  },
  {
   "cell_type": "code",
   "execution_count": null,
   "metadata": {},
   "outputs": [],
   "source": [
    "ptype.run_inference(_data_frame=df_subsample)\n",
    "\n",
    "plot_column_type_posterior(p_t=ptype.cols[column].p_t, \n",
    "                           types=ptype.types.items())\n",
    "\n",
    "# features = ptype.features[column]\n",
    "# arff_type, arff_post = column2ARFF.get_arff(features)\n",
    "\n",
    "# plot_arff_type_posterior(arff_post)\n",
    "\n",
    "plot_row_type_posterior(ptype.cols[column], t='anomaly')"
   ]
  },
  {
   "cell_type": "code",
   "execution_count": null,
   "metadata": {},
   "outputs": [],
   "source": [
    "ptype.cols[column].reclassify_normal(['T', 'U'])\n",
    "\n",
    "plot_row_type_posterior(ptype.cols[column], t='anomaly')"
   ]
  },
  {
   "cell_type": "markdown",
   "metadata": {},
   "source": [
    "# 2. Incorrect Anomaly Prediction"
   ]
  },
  {
   "cell_type": "code",
   "execution_count": null,
   "metadata": {},
   "outputs": [],
   "source": [
    "df = read_data(dataset_name=\"survey\", header=0)\n",
    "\n",
    "column = \"Gender\"\n",
    "df_subsample = subsample_df(df, column_to_sample_from=column, sample_num=10)\n",
    "display(df_subsample)\n",
    "\n",
    "unique_values, counts = np.unique(\n",
    "    [str(int_element) for int_element in df_subsample[column].tolist()],\n",
    "    return_counts=True,\n",
    ")\n",
    "plot_bar(\n",
    "    unique_values,\n",
    "    counts,\n",
    "    title=\"counts of the unique data values\",\n",
    "    y_lim_max=None,\n",
    "    xlabel=\"Unique Value\",\n",
    "    ylabel=\"Counts\",\n",
    ")"
   ]
  },
  {
   "cell_type": "code",
   "execution_count": null,
   "metadata": {},
   "outputs": [],
   "source": [
    "ptype.run_inference(_data_frame=df_subsample)\n",
    "# features = ptype.features[column]\n",
    "# arff_type, arff_post = column2ARFF.get_arff(features)\n",
    "\n",
    "plot_column_type_posterior(p_t=ptype.cols[column].p_t, \n",
    "                           types=ptype.types.items())\n",
    "\n",
    "# plot_arff_type_posterior(arff_post)\n",
    "\n",
    "\n",
    "plot_row_type_posterior(ptype.cols[column], t='anomaly')"
   ]
  },
  {
   "cell_type": "code",
   "execution_count": null,
   "metadata": {},
   "outputs": [],
   "source": []
  }
 ],
 "metadata": {
  "kernelspec": {
   "display_name": "Python 3",
   "language": "python",
   "name": "python3"
  },
  "language_info": {
   "codemirror_mode": {
    "name": "ipython",
    "version": 3
   },
   "file_extension": ".py",
   "mimetype": "text/x-python",
   "name": "python",
   "nbconvert_exporter": "python",
   "pygments_lexer": "ipython3",
   "version": "3.7.3"
  }
 },
 "nbformat": 4,
 "nbformat_minor": 2
}
