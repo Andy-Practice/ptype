{
 "cells": [
  {
   "cell_type": "code",
   "execution_count": 1,
   "metadata": {},
   "outputs": [],
   "source": [
    "# Preamble to run notebook in context of source package.\n",
    "import sys\n",
    "sys.path.insert(0, '../')"
   ]
  },
  {
   "cell_type": "markdown",
   "metadata": {},
   "source": [
    "### Toy example"
   ]
  },
  {
   "cell_type": "code",
   "execution_count": 2,
   "metadata": {},
   "outputs": [
    {
     "data": {
      "text/html": [
       "<div>\n",
       "<style scoped>\n",
       "    .dataframe tbody tr th:only-of-type {\n",
       "        vertical-align: middle;\n",
       "    }\n",
       "\n",
       "    .dataframe tbody tr th {\n",
       "        vertical-align: top;\n",
       "    }\n",
       "\n",
       "    .dataframe thead th {\n",
       "        text-align: right;\n",
       "    }\n",
       "</style>\n",
       "<table border=\"1\" class=\"dataframe\">\n",
       "  <thead>\n",
       "    <tr style=\"text-align: right;\">\n",
       "      <th></th>\n",
       "      <th>string</th>\n",
       "    </tr>\n",
       "  </thead>\n",
       "  <tbody>\n",
       "    <tr>\n",
       "      <th>0</th>\n",
       "      <td>aaaa</td>\n",
       "    </tr>\n",
       "    <tr>\n",
       "      <th>1</th>\n",
       "      <td>aaaa</td>\n",
       "    </tr>\n",
       "    <tr>\n",
       "      <th>2</th>\n",
       "      <td>aaaa</td>\n",
       "    </tr>\n",
       "    <tr>\n",
       "      <th>3</th>\n",
       "      <td>aaaa</td>\n",
       "    </tr>\n",
       "    <tr>\n",
       "      <th>4</th>\n",
       "      <td>aaaa</td>\n",
       "    </tr>\n",
       "  </tbody>\n",
       "</table>\n",
       "</div>"
      ],
      "text/plain": [
       "  string\n",
       "0   aaaa\n",
       "1   aaaa\n",
       "2   aaaa\n",
       "3   aaaa\n",
       "4   aaaa"
      ]
     },
     "execution_count": 2,
     "metadata": {},
     "output_type": "execute_result"
    }
   ],
   "source": [
    "import pandas as pd\n",
    "\n",
    "types = [\n",
    "    \"integer\",\n",
    "    \"string\",\n",
    "    \"float\",\n",
    "    \"boolean\",\n",
    "    \"date-iso-8601\",\n",
    "    \"date-eu\",\n",
    "    \"date-non-std-subtype\",\n",
    "    \"date-non-std\",\n",
    "]\n",
    "\n",
    "df_trainings, y_trainings = [], []\n",
    "\n",
    "x = ['aaaa', 'aaaa', 'aaaa', 'aaaa', 'aaaa']\n",
    "column = 'string'\n",
    "\n",
    "df_training = pd.DataFrame(x, dtype='str', columns=[column])\n",
    "y_training = temp = [key + 1 for key, value in enumerate(types) if value == 'integer']\n",
    "\n",
    "df_trainings.append(df_training)\n",
    "y_trainings.append(y_training)\n",
    "\n",
    "df_training.head()"
   ]
  },
  {
   "cell_type": "code",
   "execution_count": 3,
   "metadata": {},
   "outputs": [],
   "source": [
    "def print_params(uniformly, initial, final, t):\n",
    "    print(\"\\nuniformly is\", uniformly)\n",
    "    \n",
    "    # initial probs should not change\n",
    "    machine_index = initial.types.index(t) + 2\n",
    "    \n",
    "    print(\"\\tInitial I\", initial.machines[machine_index].I)\n",
    "    print(\"\\tFinal I  \", final.machines[machine_index].I, '\\n')\n",
    "\n",
    "    # final probs should change\n",
    "    print(\"\\tInitial T\", initial.machines[machine_index].F)\n",
    "    print(\"\\tFinal T  \", final.machines[machine_index].F, '\\n')\n",
    "\n",
    "    # transition probs should change\n",
    "    print(\"\\tInitial F\", initial.machines[machine_index].T[1]['a'])\n",
    "    print(\"\\tFinal F  \", final.machines[machine_index].T[1]['a'], '\\n')"
   ]
  },
  {
   "cell_type": "markdown",
   "metadata": {},
   "source": [
    "make sure that normalization changes the results"
   ]
  },
  {
   "cell_type": "code",
   "execution_count": 4,
   "metadata": {},
   "outputs": [
    {
     "name": "stdout",
     "output_type": "stream",
     "text": [
      "[356.08108481216993, 2.0794418555424183]\n",
      "[356.08108481216993, 2.0794418555424183, 2.0794418554875715]\n",
      "\n",
      "uniformly is True\n",
      "\tInitial I {0: 0.0, 1: -1e+150}\n",
      "\tFinal I   {0: 0.0, 1: -1e+150} \n",
      "\n",
      "\tInitial T {0: -1e+150, 1: -4.2626798770413155}\n",
      "\tFinal T   {0: -1e+150, 1: -90.02593332788025} \n",
      "\n",
      "\tInitial F {1: -4.2626798770413155}\n",
      "\tFinal F   "
     ]
    },
    {
     "name": "stderr",
     "output_type": "stream",
     "text": [
      "/Users/tceritli/anaconda3/lib/python3.7/site-packages/scipy/optimize/linesearch.py:462: LineSearchWarning: The line search algorithm did not converge\n",
      "  warn('The line search algorithm did not converge', LineSearchWarning)\n",
      "/Users/tceritli/anaconda3/lib/python3.7/site-packages/scipy/optimize/linesearch.py:313: LineSearchWarning: The line search algorithm did not converge\n",
      "  warn('The line search algorithm did not converge', LineSearchWarning)\n"
     ]
    },
    {
     "name": "stdout",
     "output_type": "stream",
     "text": [
      "{1: -4.248495242049359} \n",
      "\n",
      "[2.0794418554875715, 2.0794418554327314]\n",
      "[2.0794418554875715, 2.0794418554327314, 2.0794418553779344]\n",
      "\n",
      "uniformly is False\n",
      "\tInitial I {0: 0.0, 1: -1e+150}\n",
      "\tFinal I   {0: 0.0, 1: -1e+150} \n",
      "\n",
      "\tInitial T {0: -1e+150, 1: -90.02593332788025}\n",
      "\tFinal T   {0: -1e+150, 1: -90.02628276459015} \n",
      "\n",
      "\tInitial F {1: -4.248495242049359}\n",
      "\tFinal F   {1: -4.248495242049359} \n",
      "\n"
     ]
    }
   ],
   "source": [
    "# NBVAL_IGNORE_OUTPUT\n",
    "# to ignore convergence warning\n",
    "\n",
    "from ptype.Ptype import Ptype\n",
    "from ptype.Trainer import Trainer\n",
    "\n",
    "for uniformly in [True, False]:\n",
    "    ptype = Ptype(_types=types)\n",
    "    trainer = Trainer(ptype.machines, df_trainings, y_trainings)\n",
    "    initial, final, training_error = trainer.train(20, uniformly)\n",
    "\n",
    "    \n",
    "    print_params(uniformly, initial, final, \"string\")"
   ]
  },
  {
   "cell_type": "markdown",
   "metadata": {},
   "source": [
    "### Real-world Datasets"
   ]
  },
  {
   "cell_type": "code",
   "execution_count": 6,
   "metadata": {},
   "outputs": [],
   "source": [
    "from tests.test_ptype import get_inputs\n",
    "dfs, ys = [], []\n",
    "for dataset_name in [\"accident2016\", \"auto\", \"data_gov_3397_1\"]:\n",
    "    df, y = get_inputs(dataset_name, annotations_file=\"../annotations/annotations.json\", data_folder=\"../data/\")\n",
    "    dfs.append(df)\n",
    "    ys.append(y)\n"
   ]
  },
  {
   "cell_type": "code",
   "execution_count": 7,
   "metadata": {},
   "outputs": [
    {
     "name": "stdout",
     "output_type": "stream",
     "text": [
      "[356.08108481216993, 2.0794418555424183]\n",
      "[356.08108481216993, 2.0794418555424183, 2.0794418554875715]\n",
      "\n",
      "uniformly is True\n",
      "\tInitial I {0: 0.0, 1: -1e+150}\n",
      "\tFinal I   {0: 0.0, 1: -1e+150} \n",
      "\n",
      "\tInitial T {0: -1e+150, 1: -4.2626798770413155}\n",
      "\tFinal T   {0: -1e+150, 1: -90.02593332788025} \n",
      "\n",
      "\tInitial F {1: -4.2626798770413155}\n",
      "\tFinal F   {1: -4.248495242049359} \n",
      "\n"
     ]
    },
    {
     "name": "stderr",
     "output_type": "stream",
     "text": [
      "/Users/tceritli/anaconda3/lib/python3.7/site-packages/scipy/optimize/linesearch.py:462: LineSearchWarning: The line search algorithm did not converge\n",
      "  warn('The line search algorithm did not converge', LineSearchWarning)\n",
      "/Users/tceritli/anaconda3/lib/python3.7/site-packages/scipy/optimize/linesearch.py:313: LineSearchWarning: The line search algorithm did not converge\n",
      "  warn('The line search algorithm did not converge', LineSearchWarning)\n"
     ]
    },
    {
     "name": "stdout",
     "output_type": "stream",
     "text": [
      "[2.0794418554875715, 2.0794418554327314]\n",
      "[2.0794418554875715, 2.0794418554327314, 2.0794418553779344]\n",
      "\n",
      "uniformly is False\n",
      "\tInitial I {0: 0.0, 1: -1e+150}\n",
      "\tFinal I   {0: 0.0, 1: -1e+150} \n",
      "\n",
      "\tInitial T {0: -1e+150, 1: -90.02593332788025}\n",
      "\tFinal T   {0: -1e+150, 1: -90.02628276459015} \n",
      "\n",
      "\tInitial F {1: -4.248495242049359}\n",
      "\tFinal F   {1: -4.248495242049359} \n",
      "\n"
     ]
    }
   ],
   "source": [
    "# NBVAL_IGNORE_OUTPUT\n",
    "# to ignore convergence warning\n",
    "\n",
    "for uniformly in [True, False]:\n",
    "    ptype = Ptype(_types=types)\n",
    "    trainer = Trainer(ptype.machines, df_trainings, y_trainings)\n",
    "    initial, final, training_error = trainer.train(20, uniformly)\n",
    "    \n",
    "    print_params(uniformly, initial, final, \"string\")"
   ]
  },
  {
   "cell_type": "code",
   "execution_count": null,
   "metadata": {},
   "outputs": [],
   "source": []
  }
 ],
 "metadata": {
  "kernelspec": {
   "display_name": "Python 3",
   "language": "python",
   "name": "python3"
  },
  "language_info": {
   "codemirror_mode": {
    "name": "ipython",
    "version": 3
   },
   "file_extension": ".py",
   "mimetype": "text/x-python",
   "name": "python",
   "nbconvert_exporter": "python",
   "pygments_lexer": "ipython3",
   "version": "3.7.3"
  }
 },
 "nbformat": 4,
 "nbformat_minor": 2
}
