{
 "cells": [
  {
   "cell_type": "markdown",
   "metadata": {},
   "source": [
    "We need to make sure that:\n",
    "- The parameters change as expected when testing the training algorithm,\n",
    "- The training behaves differently depending on whether we set uniformly to True or False.\n",
    "\n",
    "We first set up a toy example for which we know more or less how the training should behave. Then, we look at the real-world datasets used for testing."
   ]
  },
  {
   "cell_type": "code",
   "execution_count": 1,
   "metadata": {},
   "outputs": [],
   "source": [
    "# Preamble to run notebook in context of source package.\n",
    "import sys\n",
    "sys.path.insert(0, '../')\n",
    "\n",
    "def print_params(uniformly, initial, final):\n",
    "    print(\"\\nuniformly is\", uniformly)\n",
    "    \n",
    "    for i_machine, f_machine in zip(initial.machines, final.machines):    \n",
    "        if i_machine.states != []:\n",
    "\n",
    "            if i_machine.I != f_machine.I:\n",
    "                print(\"\\tMachine is\", i_machine)\n",
    "                print(\"\\tInitial I\", i_machine.I)\n",
    "                print(\"\\tFinal I  \", f_machine.I, '\\n')\n",
    "                \n",
    "            if i_machine.T != f_machine.T:\n",
    "                print(\"\\tMachine is\", i_machine)\n",
    "                print(\"\\tT's are not the same (omitted as it's quite large)\")\n",
    "\n",
    "            if i_machine.F != f_machine.F:\n",
    "                print(\"\\tMachine is\", i_machine)\n",
    "                print(\"\\tInitial F\", i_machine.F)\n",
    "                print(\"\\tFinal F  \", f_machine.F, '\\n')"
   ]
  },
  {
   "cell_type": "markdown",
   "metadata": {},
   "source": [
    "### Toy example"
   ]
  },
  {
   "cell_type": "code",
   "execution_count": 2,
   "metadata": {},
   "outputs": [
    {
     "data": {
      "text/html": [
       "<div>\n",
       "<style scoped>\n",
       "    .dataframe tbody tr th:only-of-type {\n",
       "        vertical-align: middle;\n",
       "    }\n",
       "\n",
       "    .dataframe tbody tr th {\n",
       "        vertical-align: top;\n",
       "    }\n",
       "\n",
       "    .dataframe thead th {\n",
       "        text-align: right;\n",
       "    }\n",
       "</style>\n",
       "<table border=\"1\" class=\"dataframe\">\n",
       "  <thead>\n",
       "    <tr style=\"text-align: right;\">\n",
       "      <th></th>\n",
       "      <th>string</th>\n",
       "    </tr>\n",
       "  </thead>\n",
       "  <tbody>\n",
       "    <tr>\n",
       "      <th>0</th>\n",
       "      <td>aaaa</td>\n",
       "    </tr>\n",
       "    <tr>\n",
       "      <th>1</th>\n",
       "      <td>aaaa</td>\n",
       "    </tr>\n",
       "    <tr>\n",
       "      <th>2</th>\n",
       "      <td>aaaa</td>\n",
       "    </tr>\n",
       "    <tr>\n",
       "      <th>3</th>\n",
       "      <td>aaaa</td>\n",
       "    </tr>\n",
       "    <tr>\n",
       "      <th>4</th>\n",
       "      <td>aaaa</td>\n",
       "    </tr>\n",
       "  </tbody>\n",
       "</table>\n",
       "</div>"
      ],
      "text/plain": [
       "  string\n",
       "0   aaaa\n",
       "1   aaaa\n",
       "2   aaaa\n",
       "3   aaaa\n",
       "4   aaaa"
      ]
     },
     "execution_count": 2,
     "metadata": {},
     "output_type": "execute_result"
    }
   ],
   "source": [
    "import pandas as pd\n",
    "\n",
    "types = [\n",
    "    \"integer\",\n",
    "    \"string\",\n",
    "    \"float\",\n",
    "    \"boolean\",\n",
    "    \"date-iso-8601\",\n",
    "    \"date-eu\",\n",
    "    \"date-non-std-subtype\",\n",
    "    \"date-non-std\",\n",
    "]\n",
    "\n",
    "df_trainings, y_trainings = [], []\n",
    "\n",
    "x = ['aaaa', 'aaaa', 'aaaa', 'aaaa', 'aaaa', 'aaaa']\n",
    "column = 'string'\n",
    "\n",
    "df_training = pd.DataFrame(x, dtype='str', columns=[column])\n",
    "y_training = temp = [key + 1 for key, value in enumerate(types) if value == 'integer']\n",
    "\n",
    "df_trainings.append(df_training)\n",
    "y_trainings.append(y_training)\n",
    "\n",
    "df_training.head()"
   ]
  },
  {
   "cell_type": "code",
   "execution_count": 3,
   "metadata": {
    "scrolled": true
   },
   "outputs": [
    {
     "name": "stdout",
     "output_type": "stream",
     "text": [
      "[427.29730177460397, 2.079441918315006]\n",
      "[427.29730177460397, 2.079441918315006, 2.0794419182491954]\n",
      "\n",
      "uniformly is True\n",
      "\tMachine is <ptype.Machine.Strings object at 0x7fd0183beb00>\n",
      "\tT's are not the same (omitted as it's quite large)\n",
      "\tMachine is <ptype.Machine.Strings object at 0x7fd0183beb00>\n",
      "\tInitial F {0: -1e+150, 1: -4.2626798770413155}\n",
      "\tFinal F   {0: -1e+150, 1: -90.02593332795702} \n",
      "\n"
     ]
    },
    {
     "name": "stderr",
     "output_type": "stream",
     "text": [
      "/Users/tceritli/anaconda3/lib/python3.7/site-packages/scipy/optimize/linesearch.py:462: LineSearchWarning: The line search algorithm did not converge\n",
      "  warn('The line search algorithm did not converge', LineSearchWarning)\n",
      "/Users/tceritli/anaconda3/lib/python3.7/site-packages/scipy/optimize/linesearch.py:313: LineSearchWarning: The line search algorithm did not converge\n",
      "  warn('The line search algorithm did not converge', LineSearchWarning)\n"
     ]
    }
   ],
   "source": [
    "# NBVAL_IGNORE_OUTPUT\n",
    "# to ignore convergence warning\n",
    "\n",
    "from ptype.Ptype import Ptype\n",
    "from ptype.Trainer import Trainer\n",
    "\n",
    "uniformly = True\n",
    "ptype = Ptype(_types=types)\n",
    "trainer = Trainer(ptype.machines, df_trainings, y_trainings)\n",
    "initial, final, training_error = trainer.train(20, uniformly)\n",
    "    \n",
    "print_params(uniformly, initial, final)"
   ]
  },
  {
   "cell_type": "markdown",
   "metadata": {},
   "source": [
    "- Error changes,\n",
    "- Parameter values change."
   ]
  },
  {
   "cell_type": "code",
   "execution_count": 4,
   "metadata": {},
   "outputs": [
    {
     "name": "stdout",
     "output_type": "stream",
     "text": [
      "[2.0794419182491954, 2.079441918183399]\n",
      "[2.0794419182491954, 2.079441918183399, 2.079441918117631]\n",
      "\n",
      "uniformly is False\n",
      "\tMachine is <ptype.Machine.Strings object at 0x7fd0183c1860>\n",
      "\tInitial F {0: -1e+150, 1: -90.02593332795702}\n",
      "\tFinal F   {0: -1e+150, 1: -90.0262827648204} \n",
      "\n"
     ]
    }
   ],
   "source": [
    "# NBVAL_IGNORE_OUTPUT\n",
    "# to ignore convergence warning\n",
    "\n",
    "from ptype.Ptype import Ptype\n",
    "from ptype.Trainer import Trainer\n",
    "\n",
    "uniformly = False\n",
    "ptype = Ptype(_types=types)\n",
    "trainer = Trainer(ptype.machines, df_trainings, y_trainings)\n",
    "initial, final, training_error = trainer.train(20, uniformly)\n",
    "\n",
    "print_params(uniformly, initial, final)"
   ]
  },
  {
   "cell_type": "markdown",
   "metadata": {},
   "source": [
    "- Error changes,\n",
    "- Parameter values partially change (T is not changed).\n",
    "\n",
    "We can confirm the two check points mentioned above. We observe that error and parameter values change with the training. Also, the training behaves differently wrt the uniformly parameter (We may need to understand why T is not changed when uniformly is set to False)."
   ]
  },
  {
   "cell_type": "markdown",
   "metadata": {},
   "source": [
    "### Real-world Datasets\n",
    "\n",
    "When we are using accident2016, auto and data_gov_3397_1 for training, we do not observe any change in the error or parameter values regardless of uniformly. \n",
    "\n",
    "Let us add data_gov_10151_1 into the mix and see what happens."
   ]
  },
  {
   "cell_type": "code",
   "execution_count": 5,
   "metadata": {},
   "outputs": [],
   "source": [
    "from tests.test_ptype import get_inputs\n",
    "\n",
    "dfs, ys = [], []\n",
    "for dataset_name in [\"accident2016\", \"auto\", \"data_gov_10151_1\", \"data_gov_3397_1\"]:\n",
    "    df, y = get_inputs(dataset_name, annotations_file=\"../annotations/annotations.json\", data_folder=\"../data/\")\n",
    "    dfs.append(df)\n",
    "    ys.append(y)"
   ]
  },
  {
   "cell_type": "code",
   "execution_count": 6,
   "metadata": {},
   "outputs": [
    {
     "name": "stdout",
     "output_type": "stream",
     "text": [
      "[1846.4669799594435, 1602.0794765644862]\n",
      "[1846.4669799594435, 1602.0794765644862, 1602.0794765644862]\n",
      "\n",
      "uniformly is True\n",
      "\tMachine is <ptype.Machine.Integers object at 0x7fd01dde4f28>\n",
      "\tT's are not the same (omitted as it's quite large)\n",
      "\tMachine is <ptype.Machine.Integers object at 0x7fd01dde4f28>\n",
      "\tInitial F {0: -1e+150, 1: -1e+150, 2: -2.3978952727983707}\n",
      "\tFinal F   {0: -1e+150, 1: -1e+150, 2: -3.0396526443113636} \n",
      "\n",
      "\tMachine is <ptype.Machine.Strings object at 0x7fd0397565f8>\n",
      "\tT's are not the same (omitted as it's quite large)\n",
      "\tMachine is <ptype.Machine.Strings object at 0x7fd0397565f8>\n",
      "\tInitial F {0: -1e+150, 1: -4.2626798770413155}\n",
      "\tFinal F   {0: -1e+150, 1: -17.469224340580382} \n",
      "\n",
      "\tMachine is <ptype.Machine.Floats object at 0x7fd039756668>\n",
      "\tT's are not the same (omitted as it's quite large)\n",
      "\tMachine is <ptype.Machine.Floats object at 0x7fd039756668>\n",
      "\tInitial F {0: -1e+150, 1: -1e+150, 2: -1e+150, 3: -2.70805020110221, 4: -2.639057329615259, 5: -2.5649493574615367, 6: -1e+150, 7: -2.70805020110221, 8: -1e+150, 9: -1e+150, 10: -2.70805020110221, 11: -1e+150, 12: -2.3978952727983707, 13: -1e+150, 14: -1.0986122886681098}\n",
      "\tFinal F   {0: -1e+150, 1: -1e+150, 2: -1e+150, 3: -3.408393173654639, 4: -2.645989827713777, 5: -2.5649493574615367, 6: -1e+150, 7: -2.708050575669649, 8: -1e+150, 9: -1e+150, 10: -2.70805020110221, 11: -1e+150, 12: -2.3978952727983707, 13: -1e+150, 14: -1.0986122886681098} \n",
      "\n",
      "\tMachine is <ptype.Machine.Booleans object at 0x7fd0397566d8>\n",
      "\tInitial I {'q_0': -1.0986122886681098, 'q_1': -1e+150, 'q_2': -1e+150, 'q_3': -1e+150, 'q_4': -1e+150, 'q_5': -1e+150, 'q_6': -1e+150, 'q_7': -1e+150, 'q_8': -1.0986122886681098, 'q_9': -1e+150, 'q_10': -1e+150, 'q_11': -1e+150, 'q_12': -1e+150, 'q_13': -1e+150, 'q_14': -1e+150, 'q_15': -1e+150, 'q_16': -1.0986122886681098, 'q_17': -1e+150, 'q_18': -1e+150}\n",
      "\tFinal I   {'q_0': -0.6931532990576057, 'q_1': -1e+150, 'q_2': -1e+150, 'q_3': -1e+150, 'q_4': -1e+150, 'q_5': -1e+150, 'q_6': -1e+150, 'q_7': -1e+150, 'q_8': -0.6931532990576057, 'q_9': -1e+150, 'q_10': -1e+150, 'q_11': -1e+150, 'q_12': -1e+150, 'q_13': -1e+150, 'q_14': -1e+150, 'q_15': -1e+150, 'q_16': -12.00419703115661, 'q_17': -1e+150, 'q_18': -1e+150} \n",
      "\n",
      "\tMachine is <ptype.Machine.DateISO_8601 object at 0x7fd039756748>\n",
      "\tT's are not the same (omitted as it's quite large)\n",
      "\tMachine is <ptype.Machine.DateISO_8601 object at 0x7fd039756748>\n",
      "\tInitial F {0: -2.4849066497880004, 1: -1e+150, 2: -1e+150, 3: -1e+150, 4: -1e+150, 5: -1.3862943611198906, 6: -1e+150, 7: -1e+150, 8: -1e+150, 9: -1e+150, 10: -1e+150, 11: -1e+150, 12: -1e+150, 13: -1e+150, 14: -1e+150, 15: -1e+150, 16: -1e+150, 17: -1e+150, 18: -1e+150, 19: -1e+150, 20: -1e+150, 21: -1e+150, 22: 0.0, 23: -2.1972245773362196, 24: -1.3862943611198906, 25: -1e+150, 26: -1e+150, 27: -1e+150, 28: -1e+150, 29: -1e+150, 30: -1e+150, 31: -1e+150, 32: -1e+150, 33: -1e+150, 34: -2.0794415416798357, 35: -1e+150, 36: -1.0986122886681098, 37: -2.0794415416798357, 38: -1e+150, 39: -1e+150, 40: -1e+150, 41: -1e+150, 42: -1e+150, 43: -1e+150, 44: -2.4849066497880004, 45: -1.6094379124341003}\n",
      "\tFinal F   {0: -2.4849066497880004, 1: -1e+150, 2: -1e+150, 3: -1e+150, 4: -1e+150, 5: -1.3862943611198906, 6: -1e+150, 7: -1e+150, 8: -1e+150, 9: -1e+150, 10: -1e+150, 11: -1e+150, 12: -1e+150, 13: -1e+150, 14: -1e+150, 15: -1e+150, 16: -1e+150, 17: -1e+150, 18: -1e+150, 19: -1e+150, 20: -1e+150, 21: -1e+150, 22: 0.0, 23: -0.9777796795364232, 24: -1.3862943611198906, 25: -1e+150, 26: -1e+150, 27: -1e+150, 28: -1e+150, 29: -1e+150, 30: -1e+150, 31: -1e+150, 32: -1e+150, 33: -1e+150, 34: -2.0794415416798357, 35: -1e+150, 36: -1.0986122886681098, 37: -2.0794415416798357, 38: -1e+150, 39: -1e+150, 40: -1e+150, 41: -1e+150, 42: -1e+150, 43: -1e+150, 44: -2.4849066497880004, 45: -1.6094379124341003} \n",
      "\n"
     ]
    }
   ],
   "source": [
    "# NBVAL_IGNORE_OUTPUT\n",
    "# to ignore convergence warning\n",
    "\n",
    "ptype = Ptype(_types=types)\n",
    "trainer = Trainer(ptype.machines, dfs, ys)\n",
    "uniformly = True\n",
    "\n",
    "initial, final, training_error = trainer.train(20, uniformly=uniformly)\n",
    "print_params(uniformly, initial, final)"
   ]
  },
  {
   "cell_type": "markdown",
   "metadata": {},
   "source": [
    "- Error changes,\n",
    "- Parameter values change.\n",
    "\n",
    "This suggests that the datasets were not helping our model to learn better parameter values.\n",
    "\n",
    "Let us also check whether setting uniformly to False would change the results."
   ]
  },
  {
   "cell_type": "code",
   "execution_count": 7,
   "metadata": {},
   "outputs": [
    {
     "name": "stdout",
     "output_type": "stream",
     "text": [
      "[1602.0794765644862, 1602.0794765644862]\n",
      "[1602.0794765644862, 1602.0794765644862, 1602.0794765644862]\n",
      "\n",
      "uniformly is False\n"
     ]
    }
   ],
   "source": [
    "# NBVAL_IGNORE_OUTPUT\n",
    "# to ignore convergence warning\n",
    "\n",
    "ptype = Ptype(_types=types)\n",
    "trainer = Trainer(ptype.machines, dfs, ys)\n",
    "uniformly = False\n",
    "\n",
    "initial, final, training_error = trainer.train(20, uniformly=uniformly)\n",
    "print_params(uniformly, initial, final)"
   ]
  },
  {
   "cell_type": "markdown",
   "metadata": {},
   "source": [
    "Neither the error nor the parameter values change. So, the behaviour is different than before which is a good thing; however, we may need to think further if this is normal. Note that they arrive at the same error. Perhaps with uniformly set to True, we are alread at an optimal point.\n",
    "\n",
    "Let us now check whether this also occurs when we use data_gov_10151_1 only."
   ]
  },
  {
   "cell_type": "code",
   "execution_count": 8,
   "metadata": {},
   "outputs": [],
   "source": [
    "dfs, ys = [], []\n",
    "for dataset_name in [\"data_gov_10151_1\"]:\n",
    "    df, y = get_inputs(dataset_name, annotations_file=\"../annotations/annotations.json\", data_folder=\"../data/\")\n",
    "    dfs.append(df)\n",
    "    ys.append(y)"
   ]
  },
  {
   "cell_type": "code",
   "execution_count": 9,
   "metadata": {},
   "outputs": [
    {
     "name": "stdout",
     "output_type": "stream",
     "text": [
      "[246.46697995944356, 2.0794415416798455]\n",
      "[246.46697995944356, 2.0794415416798455, 2.0794415416798455]\n",
      "\n",
      "uniformly is True\n",
      "\tMachine is <ptype.Machine.Integers object at 0x7fd02896cd68>\n",
      "\tT's are not the same (omitted as it's quite large)\n",
      "\tMachine is <ptype.Machine.Integers object at 0x7fd02896cd68>\n",
      "\tInitial F {0: -1e+150, 1: -1e+150, 2: -2.3978952727983707}\n",
      "\tFinal F   {0: -1e+150, 1: -1e+150, 2: -0.7085893135075093} \n",
      "\n",
      "\tMachine is <ptype.Machine.Booleans object at 0x7fd02896cc18>\n",
      "\tInitial I {'q_0': -1.0986122886681098, 'q_1': -1e+150, 'q_2': -1e+150, 'q_3': -1e+150, 'q_4': -1e+150, 'q_5': -1e+150, 'q_6': -1e+150, 'q_7': -1e+150, 'q_8': -1.0986122886681098, 'q_9': -1e+150, 'q_10': -1e+150, 'q_11': -1e+150, 'q_12': -1e+150, 'q_13': -1e+150, 'q_14': -1e+150, 'q_15': -1e+150, 'q_16': -1.0986122886681098, 'q_17': -1e+150, 'q_18': -1e+150}\n",
      "\tFinal I   {'q_0': -0.7834380936745986, 'q_1': -1e+150, 'q_2': -1e+150, 'q_3': -1e+150, 'q_4': -1e+150, 'q_5': -1e+150, 'q_6': -1e+150, 'q_7': -1e+150, 'q_8': -0.7834380936745986, 'q_9': -1e+150, 'q_10': -1e+150, 'q_11': -1e+150, 'q_12': -1e+150, 'q_13': -1e+150, 'q_14': -1e+150, 'q_15': -1e+150, 'q_16': -2.449524247839218, 'q_17': -1e+150, 'q_18': -1e+150} \n",
      "\n"
     ]
    }
   ],
   "source": [
    "# NBVAL_IGNORE_OUTPUT\n",
    "# to ignore convergence warning\n",
    "\n",
    "ptype = Ptype(_types=types)\n",
    "trainer = Trainer(ptype.machines, dfs, ys)\n",
    "uniformly = True\n",
    "    \n",
    "initial, final, training_error = trainer.train(20, uniformly=uniformly, threshold=1e-20)\n",
    "print_params(uniformly, initial, final)"
   ]
  },
  {
   "cell_type": "markdown",
   "metadata": {},
   "source": [
    "- Both the error and parameter values change."
   ]
  },
  {
   "cell_type": "code",
   "execution_count": 10,
   "metadata": {},
   "outputs": [
    {
     "name": "stdout",
     "output_type": "stream",
     "text": [
      "[2.0794415416798455, 2.0794415416798455]\n",
      "[2.0794415416798455, 2.0794415416798455, 2.0794415416798455]\n",
      "\n",
      "uniformly is False\n"
     ]
    }
   ],
   "source": [
    "# NBVAL_IGNORE_OUTPUT\n",
    "# to ignore convergence warning\n",
    "\n",
    "ptype = Ptype(_types=types)\n",
    "trainer = Trainer(ptype.machines, dfs, ys)\n",
    "uniformly = False\n",
    "\n",
    "initial, final, training_error = trainer.train(20, uniformly=uniformly, threshold=1e-20)\n",
    "print_params(uniformly, initial, final)"
   ]
  },
  {
   "cell_type": "markdown",
   "metadata": {},
   "source": [
    "We observe the same issue here. This may be okay."
   ]
  }
 ],
 "metadata": {
  "kernelspec": {
   "display_name": "Python 3",
   "language": "python",
   "name": "python3"
  },
  "language_info": {
   "codemirror_mode": {
    "name": "ipython",
    "version": 3
   },
   "file_extension": ".py",
   "mimetype": "text/x-python",
   "name": "python",
   "nbconvert_exporter": "python",
   "pygments_lexer": "ipython3",
   "version": "3.7.3"
  }
 },
 "nbformat": 4,
 "nbformat_minor": 2
}
