{
 "cells": [
  {
   "cell_type": "markdown",
   "metadata": {},
   "source": [
    "In this notebook, we present various usecases to interact with ptype for column type predictions."
   ]
  },
  {
   "cell_type": "code",
   "execution_count": null,
   "metadata": {},
   "outputs": [],
   "source": [
    "# Preamble to run notebook in context of source package.\n",
    "# NBVAL_IGNORE_OUTPUT\n",
    "import sys\n",
    "sys.path.insert(0, '../')"
   ]
  },
  {
   "cell_type": "code",
   "execution_count": null,
   "metadata": {},
   "outputs": [],
   "source": [
    "from IPython.core.display import display, HTML\n",
    "from sklearn.linear_model import LinearRegression\n",
    "from sklearn import metrics\n",
    "\n",
    "import matplotlib.pyplot as plt\n",
    "%matplotlib inline\n",
    "plt.rcdefaults()\n",
    "import numpy as np\n",
    "import pandas as pd\n",
    "# import pprint\n",
    "\n",
    "from ptype.Column import Column2ARFF\n",
    "from ptype.Ptype import Ptype\n",
    "from ptype.utils import evaluate_types\n",
    "from utils import *"
   ]
  },
  {
   "cell_type": "markdown",
   "metadata": {},
   "source": [
    "### UCI Automobile Dataset"
   ]
  },
  {
   "cell_type": "code",
   "execution_count": null,
   "metadata": {},
   "outputs": [],
   "source": [
    "headers = [\"symboling\",\"normalized-losses\",\"make\",\"fuel-type\",\"aspiration\", \"num-of-doors\",\"body-style\",\n",
    "         \"drive-wheels\",\"engine-location\",\"wheel-base\", \"length\",\"width\",\"height\",\"curb-weight\",\"engine-type\",\n",
    "         \"num-of-cylinders\", \"engine-size\",\"fuel-system\",\"bore\",\"stroke\",\"compression-ratio\",\"horsepower\",\n",
    "         \"peak-rpm\",\"city-mpg\",\"highway-mpg\",\"price\"]\n",
    "\n",
    "df = pd.read_csv('../data/auto.csv', names = headers)\n",
    "df.head()"
   ]
  },
  {
   "cell_type": "markdown",
   "metadata": {},
   "source": [
    "### The Analytical Task\n",
    "\n",
    "This dataset is commonly used for a regression task, where the goal is to predict the price of an automobile given its attributes.\n",
    "\n",
    "### A Solution using Standard Python Libraries\n",
    "Let's now develop a simple solution for this problem. The solution is inspired from Kaggle (see https://www.kaggle.com/fazilbtopal/data-wrangling and https://www.kaggle.com/fazilbtopal/model-development-and-evaluation-with-python)."
   ]
  },
  {
   "cell_type": "code",
   "execution_count": null,
   "metadata": {},
   "outputs": [],
   "source": [
    "features = ['horsepower', 'curb-weight', 'engine-size', 'highway-mpg']\n",
    "target = ['price']\n",
    "\n",
    "X = df[features]\n",
    "y = df[target]\n",
    "\n",
    "df = df[features+target]\n",
    "df.head()"
   ]
  },
  {
   "cell_type": "code",
   "execution_count": null,
   "metadata": {},
   "outputs": [],
   "source": [
    "# to see the error message, uncomment the following\n",
    "\n",
    "lm = LinearRegression()\n",
    "# lm.fit(X, y)\n",
    "# y_hat = lm.predict(X)"
   ]
  },
  {
   "cell_type": "markdown",
   "metadata": {},
   "source": [
    "We notice that some data entries are valued ? and that this leads Pandas to misclassify two data columns as object rather than int64."
   ]
  },
  {
   "cell_type": "code",
   "execution_count": null,
   "metadata": {},
   "outputs": [],
   "source": [
    "df.dtypes"
   ]
  },
  {
   "cell_type": "code",
   "execution_count": null,
   "metadata": {},
   "outputs": [],
   "source": [
    "df.loc[130]"
   ]
  },
  {
   "cell_type": "markdown",
   "metadata": {},
   "source": [
    "We need to \"clean\" the horsepower and price columns in terms of missing values. Let's first have a look at what we can do without ptye:"
   ]
  },
  {
   "cell_type": "code",
   "execution_count": null,
   "metadata": {},
   "outputs": [],
   "source": [
    "# replace missing data encoding\n",
    "df['horsepower'].replace(\"?\", np.nan, inplace = True)\n",
    "df['price'].replace(\"?\", np.nan, inplace = True)\n",
    "\n",
    "# check counts of missing data\n",
    "missing_data = df.isnull().sum()\n",
    "missing_data.sort_values(inplace=True, ascending=False)\n",
    "display(missing_data.head())\n",
    "\n",
    "# drop rows\n",
    "n = df.shape[0]\n",
    "df.dropna(subset=[\"horsepower\", \"price\"], axis=0, inplace=True)\n",
    "print(\"# rows deleted = \" + str(n-df.shape[0]))\n",
    "\n",
    "# update the indices\n",
    "df.reset_index(drop=True, inplace=True)"
   ]
  },
  {
   "cell_type": "code",
   "execution_count": null,
   "metadata": {},
   "outputs": [],
   "source": [
    "df.dtypes"
   ]
  },
  {
   "cell_type": "code",
   "execution_count": null,
   "metadata": {},
   "outputs": [],
   "source": [
    "X = df[features].astype(float)\n",
    "y = df[target].astype(float).values\n",
    "\n",
    "lm.fit(X, y)\n",
    "y_hat = lm.predict(X)\n",
    "\n",
    "scatter_plot(y, y_hat)"
   ]
  },
  {
   "cell_type": "code",
   "execution_count": null,
   "metadata": {},
   "outputs": [],
   "source": [
    "print('Mean Absolute Error:', metrics.mean_absolute_error(y, y_hat))\n",
    "print('Mean Squared Error:', metrics.mean_squared_error(y, y_hat))\n",
    "print('Root Mean Squared Error:', np.sqrt(metrics.mean_squared_error(y, y_hat)))"
   ]
  },
  {
   "cell_type": "code",
   "execution_count": null,
   "metadata": {},
   "outputs": [],
   "source": [
    "from pandas.io.json import build_table_schema\n",
    "\n",
    "build_table_schema(df)"
   ]
  },
  {
   "cell_type": "markdown",
   "metadata": {},
   "source": [
    "Let's now reproduce the error and see how we can use ptype to resolve the issue."
   ]
  },
  {
   "cell_type": "code",
   "execution_count": null,
   "metadata": {},
   "outputs": [],
   "source": [
    "headers = [\"symboling\",\"normalized-losses\",\"make\",\"fuel-type\",\"aspiration\", \"num-of-doors\",\"body-style\",\n",
    "         \"drive-wheels\",\"engine-location\",\"wheel-base\", \"length\",\"width\",\"height\",\"curb-weight\",\"engine-type\",\n",
    "         \"num-of-cylinders\", \"engine-size\",\"fuel-system\",\"bore\",\"stroke\",\"compression-ratio\",\"horsepower\",\n",
    "         \"peak-rpm\",\"city-mpg\",\"highway-mpg\",\"price\"]\n",
    "\n",
    "df = pd.read_csv('../data/auto.csv', names = headers, dtype='str')\n",
    "df = df[features+target]\n",
    "df.head()\n",
    "\n",
    "ptype = Ptype()"
   ]
  },
  {
   "cell_type": "code",
   "execution_count": null,
   "metadata": {},
   "outputs": [],
   "source": [
    "schema = ptype.fit_schema(df)\n",
    "schema\n",
    "# pprint.pprint(schema)"
   ]
  },
  {
   "cell_type": "code",
   "execution_count": null,
   "metadata": {},
   "outputs": [],
   "source": [
    "ptype.show_schema()"
   ]
  },
  {
   "cell_type": "code",
   "execution_count": null,
   "metadata": {},
   "outputs": [],
   "source": [
    "df = ptype.transform_schema(df, schema)"
   ]
  },
  {
   "cell_type": "code",
   "execution_count": null,
   "metadata": {},
   "outputs": [],
   "source": [
    "df.loc[130]"
   ]
  },
  {
   "cell_type": "code",
   "execution_count": null,
   "metadata": {},
   "outputs": [],
   "source": [
    "df.dtypes"
   ]
  },
  {
   "cell_type": "code",
   "execution_count": null,
   "metadata": {},
   "outputs": [],
   "source": [
    "# check counts of missing data\n",
    "missing_data = df.isnull().sum()\n",
    "missing_data.sort_values(inplace=True, ascending=False)\n",
    "missing_data.head()\n",
    "\n",
    "# drop rows\n",
    "n = df.shape[0]\n",
    "df.dropna(subset=[\"horsepower\", \"price\"], axis=0, inplace=True)\n",
    "print(\"# rows deleted = \" + str(n-df.shape[0]))\n",
    "\n",
    "# update the indices\n",
    "df.reset_index(drop=True, inplace=True)"
   ]
  },
  {
   "cell_type": "code",
   "execution_count": null,
   "metadata": {},
   "outputs": [],
   "source": [
    "X = df[features]\n",
    "y = df[target].values\n",
    "\n",
    "lm = LinearRegression()\n",
    "lm.fit(X, y)\n",
    "y_hat = lm.predict(X)\n",
    "\n",
    "scatter_plot(y, y_hat)"
   ]
  },
  {
   "cell_type": "markdown",
   "metadata": {},
   "source": [
    "# 1. Incorrect Column Type Prediction\n",
    "\n",
    "## 1.a Incorrect Type Prediction"
   ]
  },
  {
   "cell_type": "code",
   "execution_count": null,
   "metadata": {},
   "outputs": [],
   "source": [
    "column2ARFF = Column2ARFF(\"../models/\")"
   ]
  },
  {
   "cell_type": "code",
   "execution_count": null,
   "metadata": {},
   "outputs": [],
   "source": [
    "df = read_data(dataset_name=\"accident2016\", header=0)\n",
    "\n",
    "column = \"Time (24hr)\"\n",
    "df_subsample = subsample_df(df, column_to_sample_from=column, sample_num=10)\n",
    "df_subsample"
   ]
  },
  {
   "cell_type": "code",
   "execution_count": null,
   "metadata": {},
   "outputs": [],
   "source": [
    "ptype.fit_schema(df_subsample)\n",
    "\n",
    "plot_column_type_posterior(ptype.cols[column].p_t)"
   ]
  },
  {
   "cell_type": "code",
   "execution_count": null,
   "metadata": {},
   "outputs": [],
   "source": [
    "features = ptype.cols[column].features\n",
    "arff_type, arff_post = column2ARFF.get_arff(features)\n",
    "\n",
    "plot_arff_type_posterior(arff_post)"
   ]
  },
  {
   "cell_type": "code",
   "execution_count": null,
   "metadata": {},
   "outputs": [],
   "source": [
    "ptype.reclassify_column(column, 'date-iso-8601')\n",
    "\n",
    "plot_column_type_posterior(ptype.cols[column].p_t)\n",
    "\n",
    "# do the same thing for arff type"
   ]
  },
  {
   "cell_type": "markdown",
   "metadata": {},
   "source": [
    "## 1.b Uniform posterior distribution"
   ]
  },
  {
   "cell_type": "code",
   "execution_count": null,
   "metadata": {},
   "outputs": [],
   "source": [
    "df = read_data(dataset_name='inspection_outcomes', header=0)\n",
    "\n",
    "column = 'Provision type'\n",
    "df_subsample = subsample_df(df, column_to_sample_from = column, sample_num = 10)\n",
    "df_subsample"
   ]
  },
  {
   "cell_type": "code",
   "execution_count": null,
   "metadata": {},
   "outputs": [],
   "source": [
    "ptype.fit_schema(df_subsample)\n",
    "\n",
    "plot_column_type_posterior(ptype.cols[column].p_t)"
   ]
  },
  {
   "cell_type": "code",
   "execution_count": null,
   "metadata": {},
   "outputs": [],
   "source": [
    "features = ptype.cols[column].features\n",
    "arff_type, arff_post = column2ARFF.get_arff(features)\n",
    "\n",
    "plot_arff_type_posterior(arff_post)"
   ]
  },
  {
   "cell_type": "code",
   "execution_count": null,
   "metadata": {},
   "outputs": [],
   "source": [
    "ptype.reclassify_column(column, 'string')\n",
    "\n",
    "plot_column_type_posterior(ptype.cols[column].p_t)\n",
    "\n",
    "# do the same thing for arff type\n",
    "# add the character to the alphabet?"
   ]
  },
  {
   "cell_type": "code",
   "execution_count": null,
   "metadata": {},
   "outputs": [],
   "source": []
  }
 ],
 "metadata": {
  "kernelspec": {
   "display_name": "Python 3",
   "language": "python",
   "name": "python3"
  },
  "language_info": {
   "codemirror_mode": {
    "name": "ipython",
    "version": 3
   },
   "file_extension": ".py",
   "mimetype": "text/x-python",
   "name": "python",
   "nbconvert_exporter": "python",
   "pygments_lexer": "ipython3",
   "version": "3.7.3"
  }
 },
 "nbformat": 4,
 "nbformat_minor": 2
}
